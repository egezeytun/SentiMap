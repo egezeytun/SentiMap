{
 "cells": [
  {
   "cell_type": "code",
   "execution_count": null,
   "metadata": {
    "id": "GiTH3ze9upLP"
   },
   "outputs": [],
   "source": [
    "from google.colab import drive\n",
    "drive.mount('/content/drive') #connect your drive to notebook"
   ]
  },
  {
   "cell_type": "code",
   "execution_count": null,
   "metadata": {
    "id": "nj2x-5MVV3Hp"
   },
   "outputs": [],
   "source": [
    "pip install jpype1"
   ]
  },
  {
   "cell_type": "code",
   "execution_count": null,
   "metadata": {
    "id": "w9zXnLdpwuBJ"
   },
   "outputs": [],
   "source": [
    "import jpype\n",
    "from jpype import JClass, JString, getDefaultJVMPath, shutdownJVM, startJVM, java\n",
    "import nltk\n",
    "from nltk.corpus import stopwords\n",
    "from string import punctuation, digits\n",
    "import itertools\n",
    "from pathlib import Path\n",
    "from typing import List\n",
    "from collections import Counter\n",
    "from pathlib import Path\n",
    "import numpy as np\n",
    "import pandas as pd\n",
    "import re\n",
    "import os\n",
    "from pydrive.auth import GoogleAuth\n",
    "from pydrive.drive import GoogleDrive\n",
    "from google.colab import auth\n",
    "from oauth2client.client import GoogleCredentials\n",
    "from pydrive.auth import GoogleAuth\n",
    "from pydrive.drive import GoogleDrive\n",
    "from google.colab import auth\n",
    "from oauth2client.client import GoogleCredentials\n",
    "nltk.download(\"all\")"
   ]
  },
  {
   "cell_type": "markdown",
   "metadata": {
    "id": "788L1e5jw1iM"
   },
   "source": [
    "# <font color='blue'>Read the Data Set</font>"
   ]
  },
  {
   "cell_type": "code",
   "execution_count": null,
   "metadata": {
    "id": "0VvIl1wBxAPl"
   },
   "outputs": [],
   "source": [
    "%%time\n",
    "# Making sure Turkish characters appear correctly.\n",
    "df = pd.read_csv(\"drive/My Drive/Veri Setleri/CC_DuyguAnalizi.csv\", delimiter = \"~\", encoding='latin-1')\n",
    "replaceDict={'Ý':'İ','Ð':'Ğ','Þ':'Ş','þ':'ş','ý':'ı','ð':'ğ'}\n",
    "\n",
    "for x in replaceDict:\n",
    "    df=df.replace(x,replaceDict[x],regex=True)\n",
    "    \n",
    "df.head()"
   ]
  },
  {
   "cell_type": "code",
   "execution_count": null,
   "metadata": {
    "id": "NM4Tcgmc2baP"
   },
   "outputs": [],
   "source": [
    "df[\"TICKET_DESC\"]=df[\"TICKET_DESC\"].astype(str)"
   ]
  },
  {
   "cell_type": "markdown",
   "metadata": {},
   "source": [
    "# <font color='red'> Step 1: Cleaning the Data </font>"
   ]
  },
  {
   "cell_type": "markdown",
   "metadata": {},
   "source": [
    "Our data set, which contains millions of messages sent by Istanbul residents to the Municipality's Call Center, is very dirty. The following section will outline the cleaning process."
   ]
  },
  {
   "cell_type": "markdown",
   "metadata": {
    "id": "MkLA6ASpxAc8"
   },
   "source": [
    "## <font color='blue'> Replacing Emoticons; Removing Links, Digits, and Punctuation; Turning all Letters into Lowercase </font>"
   ]
  },
  {
   "cell_type": "code",
   "execution_count": null,
   "metadata": {
    "id": "BgdpJPsEzABU"
   },
   "outputs": [],
   "source": [
    "def replaceemoticon(word):\n",
    "    \n",
    "    pos = re.findall(r\"(?::\\) | :-\\) | =\\) | :D | :d | <3 | \\(: | :\\'\\) | \\^\\^|;\\) | \\(-:)\", word)\n",
    "    neg = re.findall(r\"(:-\\( | :\\( | ;\\( | ;-\\( | =\\( | :/ | :\\\\ | -_- | \\): | \\)-:)\", word)\n",
    "  \n",
    "    if pos:\n",
    "        #if = \":)\"\n",
    "        word = word + \" pozitif\"\n",
    "\n",
    "    elif neg:\n",
    "        #if = \":(\"\n",
    "        word = word + \" negatif\"\n",
    "\n",
    "    return word"
   ]
  },
  {
   "cell_type": "code",
   "execution_count": null,
   "metadata": {
    "id": "uZvJ5xxEzFAz"
   },
   "outputs": [],
   "source": [
    "df[\"preProcessing\"] = df[\"TICKET_DESC\"].map(replaceemoticon)"
   ]
  },
  {
   "cell_type": "code",
   "execution_count": null,
   "metadata": {
    "id": "L4-FWN3dxEbs"
   },
   "outputs": [],
   "source": [
    "def preProcessing(text):\n",
    "\n",
    "  return resubsatır(df_remove_punc(df_remove_digits(unlem(df_remove_email_adressed(df_remove_com_tr(df_remove_link(text)))))))\n",
    "\n",
    "def df_remove_link(text):\n",
    "  return re.sub(r\"((http\\S+)|(www\\S+))\", \" \", text)\n",
    "\n",
    "def df_remove_com_tr(text):\n",
    "    text = re.sub(r'\\S*\\.(com|tr)',\" \",text)\n",
    "    return text\n",
    "\n",
    "def df_remove_email_adressed(text):\n",
    "  return re.sub(r'([.\\w]{3,}@[.\\w]{5,})', ' ', text)\n",
    "\n",
    "def df_remove_digits(text): #remove 0123456789\n",
    "    text=text.strip()\n",
    "    remove_digits = str.maketrans(' ', ' ', digits)\n",
    "    return text.translate(remove_digits)\n",
    "\n",
    "def unlem(text): # '!' denotes strong feelings. Thus, we don't want to remove it. We will keep it in word format, as \"unlem\" (\"exclamation mark\" in Turkish).\n",
    "    if \"!\" in text:\n",
    "      return text + \" ünlem\"\n",
    "    else:\n",
    "      return text\n",
    "\n",
    "def resubsatır(text): #remove \\n \n",
    "    texts= re.sub(\"\\n\",\" \",text)\n",
    "    return texts\n",
    "\n",
    "def df_remove_punc(text): #remove punctuation\n",
    "    regex = re.compile('[%s]' % re.escape(punctuation))\n",
    "    return regex.sub(' ', text)"
   ]
  },
  {
   "cell_type": "code",
   "execution_count": null,
   "metadata": {
    "id": "CMm8HSN1xE11"
   },
   "outputs": [],
   "source": [
    "%%time\n",
    "\n",
    "# Remove http, com, link, digits:\n",
    "\n",
    "df[\"preProcessing\"] = df[\"preProcessing\"].map(preProcessing)"
   ]
  },
  {
   "cell_type": "code",
   "execution_count": null,
   "metadata": {
    "id": "pTD2AfOh0Xj7"
   },
   "outputs": [],
   "source": [
    "def replace_a(text):\n",
    "    if \"â\" in text:\n",
    "      return text+\"a\"\n",
    "    else:\n",
    "      return text"
   ]
  },
  {
   "cell_type": "code",
   "execution_count": null,
   "metadata": {
    "id": "E6XE9Bny0ZAu"
   },
   "outputs": [],
   "source": [
    "%%time\n",
    "\n",
    "df[\"preProcessing\"] = df[\"preProcessing\"].map(replace_a)"
   ]
  },
  {
   "cell_type": "code",
   "execution_count": null,
   "metadata": {
    "id": "DAyxcmn_rnnU"
   },
   "outputs": [],
   "source": [
    "def lowers(text):\n",
    "    text=re.sub(\"İ\",\"i\",text)\n",
    "    text = text.lower()\n",
    "    return text\n",
    "\n",
    "df[\"preProcessing\"] = df[\"preProcessing\"].map(lowers)"
   ]
  },
  {
   "cell_type": "markdown",
   "metadata": {
    "id": "AZzV1FPjxHR8"
   },
   "source": [
    "## <font color='blue'> Deleting Reply Tickets Written by Call Center Officers </font>"
   ]
  },
  {
   "cell_type": "code",
   "execution_count": null,
   "metadata": {
    "id": "yKqFpMaNxJ-2"
   },
   "outputs": [],
   "source": [
    "data=df.copy()"
   ]
  },
  {
   "cell_type": "code",
   "execution_count": null,
   "metadata": {
    "id": "AHc4khcTxKBg"
   },
   "outputs": [],
   "source": [
    "pd.set_option(\"display.max_rows\", data.shape[0])\n",
    "pd.set_option('display.max_colwidth', data.shape[0])"
   ]
  },
  {
   "cell_type": "code",
   "execution_count": null,
   "metadata": {
    "id": "Y9qlhzBOrnnV"
   },
   "outputs": [],
   "source": [
    "# Drop all duplicates in the TICKET_DESC column.\n",
    "\n",
    "data.drop_duplicates(subset=['preProcessing'], inplace = True)"
   ]
  },
  {
   "cell_type": "code",
   "execution_count": null,
   "metadata": {
    "id": "SrmMWo5hVTeT"
   },
   "outputs": [],
   "source": [
    "# Drop the NA data.\n",
    "\n",
    "data.dropna(subset = [\"preProcessing\"], inplace = True)"
   ]
  },
  {
   "cell_type": "code",
   "execution_count": null,
   "metadata": {
    "colab": {
     "base_uri": "https://localhost:8080/"
    },
    "id": "WETzDNENalSD",
    "outputId": "526a34db-d08a-4c57-e352-e501094a8ea4"
   },
   "outputs": [
    {
     "data": {
      "text/plain": [
       "(1296505, 8)"
      ]
     },
     "execution_count": 42,
     "metadata": {
      "tags": []
     },
     "output_type": "execute_result"
    }
   ],
   "source": [
    "data.shape"
   ]
  },
  {
   "cell_type": "code",
   "execution_count": null,
   "metadata": {
    "id": "6lYOr1r-ABOy"
   },
   "outputs": [],
   "source": [
    "# Trying different combinations to target response tickets written by Instanbul Metropolitan Municipality call center officers:\n",
    "\n",
    "data = data[~data.preProcessing.str.contains(\" bilgi verildi\")]\n",
    "data = data[~data.preProcessing.str.contains(\" bilgi verildi.\")]\n",
    "data = data[~data.preProcessing.str.contains(\"bilgi verildi\")]\n",
    "data = data[~data.preProcessing.str.contains(\"bilgi verildi.\")]\n",
    "data = data[~data.preProcessing.str.contains(\"bilgi veirldi\")]\n",
    "data = data[~data.preProcessing.str.contains(\"bilgi veirldi.\")]\n",
    "data = data[~data.preProcessing.str.contains(\"bv\")]\n",
    "data = data[~data.preProcessing.str.contains(\"b.v\")]\n",
    "data = data[~data.preProcessing.str.contains(\"b.v.\")]\n",
    "bilgi =  (r\"(\\s*)b.?lg.?s?.?(\\s*)?v.?r.?l(d.?|m.?.?t.?r).?\")  \n",
    "bilgi_kısa =(r\".?b.?v.?\")\n",
    "nolu_basvuru = (r\".?n.?l.?(\\s*)?b.?(s|ş)v.?r.?\")         \n",
    "numaralı_basvuru = (r\".?n.?m.?r.?l.?(\\s*)?b.?(s|ş)v.?r.?\")\n",
    "data = data[~data.preProcessing.str.contains(bilgi)]\n",
    "data = data[~data.preProcessing.str.contains(bilgi_kısa)]\n",
    "data = data[~data.preProcessing.str.contains(nolu_basvuru)]\n",
    "data = data[~data.preProcessing.str.contains(numaralı_basvuru)]\n",
    "tespit = (r\".?t.?sp.?t(\\s*)?.?d.?l(d.?|m.?.?t.?r).?\") \n",
    "data = data[~data.preProcessing.str.contains(tespit)]\n",
    "kayıt =  (r\".?k.?y.?t(\\s*)?.?l.?na?(m.?)?(d.?|m.?.?t.?r).?\") \n",
    "kayıt2 =  (r\".?k.?y.?t(\\s*)?.?(c|ç).?la?(m.?)?(d.?|m.?.?t.?r).?\")\n",
    "data = data[~data.preProcessing.str.contains(kayıt)]\n",
    "data = data[~data.preProcessing.str.contains(kayıt2)] \n",
    "talep =  (r\"t.?.?p(\\s*)?.?l.?na?(m.?)?(d.?|m.?.?t.?r).?\") \n",
    "talep2 =  (r\"t.?l.?p(\\s*)?.?l.?(s|ş)t.?r.?la?(m.?)?(d.?|m.?.?t.?r).?\") \n",
    "data = data[~data.preProcessing.str.contains(talep)]\n",
    "data = data[~data.preProcessing.str.contains(talep2)] \n",
    "\n",
    "# Approx. ~25.000 tickets"
   ]
  },
  {
   "cell_type": "markdown",
   "metadata": {
    "id": "8GJUH-ZGzyN7"
   },
   "source": [
    "## <font color='blue'> Deleting Outlier Tickets (Too Short or Too Long) </font>"
   ]
  },
  {
   "cell_type": "code",
   "execution_count": null,
   "metadata": {
    "id": "Qw0GtJEVVlPT"
   },
   "outputs": [],
   "source": [
    "# Adding a new column which denotes word count.\n",
    "\n",
    "data['totalwords'] = data['preProcessing'].str.split().str.len()"
   ]
  },
  {
   "cell_type": "code",
   "execution_count": null,
   "metadata": {
    "id": "el3LJJjFo400"
   },
   "outputs": [],
   "source": [
    "# The min and max word limits were determined by totalwords min - max values and standard deviation.\n",
    "\n",
    "data = data[data.totalwords > 6]\n",
    "data = data[data.totalwords < 61]"
   ]
  },
  {
   "cell_type": "code",
   "execution_count": null,
   "metadata": {
    "id": "mL2Ci0B-zd6f"
   },
   "outputs": [],
   "source": [
    "data.shape"
   ]
  },
  {
   "cell_type": "markdown",
   "metadata": {},
   "source": [
    "## <font color='blue'> Tokenizing Words </font>"
   ]
  },
  {
   "cell_type": "code",
   "execution_count": null,
   "metadata": {
    "id": "RhhMz7lc0OTN"
   },
   "outputs": [],
   "source": [
    "nltk.download('punkt')\n",
    "from nltk.tokenize import word_tokenize, sent_tokenize"
   ]
  },
  {
   "cell_type": "code",
   "execution_count": null,
   "metadata": {
    "id": "h20oLX250OTN"
   },
   "outputs": [],
   "source": [
    "data['preProcessing'] = data.apply(lambda row: word_tokenize(row['preProcessing']), axis=1)"
   ]
  },
  {
   "cell_type": "code",
   "execution_count": null,
   "metadata": {
    "id": "WSts7Medwg1n"
   },
   "outputs": [],
   "source": [
    "# We change the data type to string:\n",
    "\n",
    "def tokenize_to_str(text):\n",
    "  text= re.sub(r\"'\",\"\", text)\n",
    "  text= re.sub(r\",\",\"\", text)\n",
    "  text= re.sub(r\"\\[\",\"\", text)\n",
    "  text= re.sub(r\"\\]\",\"\", text)\n",
    "  return text"
   ]
  },
  {
   "cell_type": "code",
   "execution_count": null,
   "metadata": {
    "id": "qAEbxv4F4rnm"
   },
   "outputs": [],
   "source": [
    "def tokenizeList_to_str(text):\n",
    "  return \" \".join(text)"
   ]
  },
  {
   "cell_type": "code",
   "execution_count": null,
   "metadata": {
    "id": "rP-ZKfAH0LcO"
   },
   "outputs": [],
   "source": [
    "data['preProcessing'] = data['preProcessing'].map(tokenizeList_to_str)"
   ]
  },
  {
   "cell_type": "markdown",
   "metadata": {
    "id": "UhsAoE7IxRll"
   },
   "source": [
    "## <font color='blue'> Deleting Unknown Characters </font>"
   ]
  },
  {
   "cell_type": "code",
   "execution_count": null,
   "metadata": {
    "id": "kVi5Zayk0aO0"
   },
   "outputs": [],
   "source": [
    "karakterler=[]\n",
    "def find(text):\n",
    "  for i in text:\n",
    "    if(i not in [\"q\",\"x\",\"w\",\"a\",\"b\",\"c\",\"ç\",\"d\",\"e\",\"f\",\"g\",\"ğ\",\"h\",\"ı\",\"i\",\"j\",\"k\",\"l\",\"m\",\"n\",\"o\",\"ö\",\"p\",\"r\",\"s\",\"ş\",\"t\",\"u\",\"ü\",\"v\",\"y\",\"z\"]):\n",
    "      karakterler.append(i) #known characters \n",
    "    else:\n",
    "      continue\n",
    "data[\"preProcessing\"].map(find)"
   ]
  },
  {
   "cell_type": "code",
   "execution_count": null,
   "metadata": {
    "colab": {
     "base_uri": "https://localhost:8080/"
    },
    "id": "yh_zW9bS4_NP",
    "outputId": "68d48ca2-3851-4d67-a7a4-999de159e03c"
   },
   "outputs": [
    {
     "name": "stdout",
     "output_type": "stream",
     "text": [
      "{'²', 'ê', '©', 'ó', '³', 'ò', '´', 'ù', 'õ', '«', '¿', 'ß', 'û', '\\x91', 'ä', 'ï', '»', 'â', 'í', '¨', '÷', 'æ', 'å', 'é', 'ø', '×', 'ô', '°', '¶', 'ú', '¾', '\\x7f', '£', 'ì', 'á', '¸', '¹', '·', '¼', 'î', 'ñ', 'ë', 'è', 'à', '±', '§', '½', ' ', '\\x92', 'ã'}\n"
     ]
    }
   ],
   "source": [
    "silinecek_unique = set(karakterler) #unknown characters\n",
    "print(silinecek_unique)"
   ]
  },
  {
   "cell_type": "code",
   "execution_count": null,
   "metadata": {
    "id": "5X4JX9Qh0aEx"
   },
   "outputs": [],
   "source": [
    "silinecek_unique = set(karakterler)\n",
    "for i in silinecek_unique:\n",
    "  data[\"preProcessing\"]=data[\"preProcessing\"].str.replace(i,\" \")"
   ]
  },
  {
   "cell_type": "code",
   "execution_count": null,
   "metadata": {
    "id": "sjAc1gJK0vMu"
   },
   "outputs": [],
   "source": [
    "data.iloc[4000:4010]"
   ]
  },
  {
   "cell_type": "markdown",
   "metadata": {
    "id": "Ym3XnDxnwhXM"
   },
   "source": [
    "## <font color='blue'> Deleting Single-Letter Words</font>"
   ]
  },
  {
   "cell_type": "code",
   "execution_count": null,
   "metadata": {
    "id": "XZ4W4bm7wY1g"
   },
   "outputs": [],
   "source": [
    "#After the deleting digits aspecially one letter words are appeared in the datasetet \n",
    "# We are deleting one charactered words not two, because there are some important words in Turkish which have 2 letters in it : ev/ol/su/ay \n",
    "def sil_1(text):\n",
    "    text_list=text.split()\n",
    "    for i in text_list:\n",
    "        if len(i)==1:\n",
    "            text_list.remove(i)   \n",
    "    return \" \".join(text_list)"
   ]
  },
  {
   "cell_type": "code",
   "execution_count": null,
   "metadata": {
    "id": "rFsV6Zdj5cGh"
   },
   "outputs": [],
   "source": [
    "data[\"preProcessing\"]=data[\"preProcessing\"].map(sil_1)"
   ]
  },
  {
   "cell_type": "markdown",
   "metadata": {
    "id": "6-x6av6owZII"
   },
   "source": [
    "## <font color='blue'> Deleting Stopwords </font>"
   ]
  },
  {
   "cell_type": "code",
   "execution_count": null,
   "metadata": {
    "id": "zFtu9UxWOXfk"
   },
   "outputs": [],
   "source": [
    "WPT = nltk.WordPunctTokenizer()\n",
    "stop_word_list = nltk.corpus.stopwords.words('turkish')\n",
    "stop_word_list.remove('ama') #except \"ama\" because it has important negativity meaning in the sentence"
   ]
  },
  {
   "cell_type": "code",
   "execution_count": null,
   "metadata": {
    "id": "xyyWi2jMwL_t"
   },
   "outputs": [],
   "source": [
    "def stopwords_sil(text):\n",
    "    text_list=text.split()\n",
    "    silinmis_list = [text for text in text_list if text not in stop_word_list]\n",
    "    silinmis_list=\" \".join(silinmis_list)\n",
    "    ##print(silinmis_list)\n",
    "    return silinmis_list"
   ]
  },
  {
   "cell_type": "code",
   "execution_count": null,
   "metadata": {
    "id": "R3EdSgDuxggv"
   },
   "outputs": [],
   "source": [
    "data[\"preProcessing\"]=data[\"preProcessing\"].map(stopwords_sil)"
   ]
  },
  {
   "cell_type": "markdown",
   "metadata": {
    "id": "XO1NYk3AxhRl"
   },
   "source": [
    "## <font color='blue'> Deleting English Tickets </font>"
   ]
  },
  {
   "cell_type": "code",
   "execution_count": null,
   "metadata": {
    "id": "WoiWCEmFwgi_"
   },
   "outputs": [],
   "source": [
    "pip install fasttext"
   ]
  },
  {
   "cell_type": "code",
   "execution_count": null,
   "metadata": {
    "id": "mZHNET6bCqct"
   },
   "outputs": [],
   "source": [
    "import fasttext\n",
    "PRETRAINED_MODEL_PATH = 'drive/MyDrive/NLP/Kutuphaneler, Kaynaklar/lid.176.bin'\n",
    "model = fasttext.load_model(PRETRAINED_MODEL_PATH)"
   ]
  },
  {
   "cell_type": "code",
   "execution_count": null,
   "metadata": {
    "id": "g0KkQOnf8_jz"
   },
   "outputs": [],
   "source": [
    "def ing(text):\n",
    "    predictions = model.predict([text], k=2) #it will give you the most possible two languge label\n",
    "    if predictions[0][0][0] ==\"__label__tr\":\n",
    "        y=predictions[1][0][0]\n",
    "        if y > 0.92: #0.92 determined by the several English ticket examples in our dataset content \n",
    "            return \"tr\" #this will labelled the rows as \"tr\" or \"NaN\" according to their lang score"
   ]
  },
  {
   "cell_type": "code",
   "execution_count": null,
   "metadata": {
    "id": "DY6Ov2C9GohX"
   },
   "outputs": [],
   "source": [
    "data[\"lang\"]=data[\"preProcessing\"].map(ing)"
   ]
  },
  {
   "cell_type": "code",
   "execution_count": null,
   "metadata": {
    "colab": {
     "base_uri": "https://localhost:8080/"
    },
    "id": "n2hggH71PEZ0",
    "outputId": "bc1a28bc-0782-4693-eee9-414a47e1137d"
   },
   "outputs": [
    {
     "data": {
      "text/plain": [
       "(831724, 10)"
      ]
     },
     "execution_count": 60,
     "metadata": {
      "tags": []
     },
     "output_type": "execute_result"
    }
   ],
   "source": [
    "data.shape"
   ]
  },
  {
   "cell_type": "code",
   "execution_count": null,
   "metadata": {
    "colab": {
     "base_uri": "https://localhost:8080/"
    },
    "id": "ZSkwWLzxG4a6",
    "outputId": "bfb6bfad-9932-4090-bb64-0b5e18783141"
   },
   "outputs": [
    {
     "data": {
      "text/plain": [
       "(26274, 10)"
      ]
     },
     "execution_count": 58,
     "metadata": {
      "tags": []
     },
     "output_type": "execute_result"
    }
   ],
   "source": [
    "tr_olmayan_df=data[data[\"lang\"]!=\"tr\"] ## how many rows are not Turkish?\n",
    "tr_olmayan_df.shape"
   ]
  },
  {
   "cell_type": "code",
   "execution_count": null,
   "metadata": {
    "id": "Vt8AoSM3EY4B"
   },
   "outputs": [],
   "source": [
    "data_ingsiz=data.dropna(subset=['lang']) #deleting NaN valued,which in Lang column, rows"
   ]
  },
  {
   "cell_type": "code",
   "execution_count": null,
   "metadata": {
    "colab": {
     "base_uri": "https://localhost:8080/"
    },
    "id": "5sWtlswjPsLN",
    "outputId": "28636c53-1085-48d2-bf2c-6c74393fdac4"
   },
   "outputs": [
    {
     "data": {
      "text/plain": [
       "(805450, 10)"
      ]
     },
     "execution_count": 61,
     "metadata": {
      "tags": []
     },
     "output_type": "execute_result"
    }
   ],
   "source": [
    "data_ingsiz.shape"
   ]
  },
  {
   "cell_type": "code",
   "execution_count": null,
   "metadata": {
    "id": "pYfIJjX6mXwC"
   },
   "outputs": [],
   "source": [
    "#checking if the code works for deleting English texts\n",
    "\n",
    "filt=data[\"TICKET_DESC\"].str.contains(\"thank\", na=False )\n",
    "data_ingsiz.loc[filt, [\"TICKET_DESC\",\"ORG_TICKET_ID\", \"preProcessing\",\"lang\"]]"
   ]
  },
  {
   "cell_type": "code",
   "execution_count": null,
   "metadata": {
    "id": "lya2nnSSgPaY"
   },
   "outputs": [],
   "source": [
    "#checking if the code works for deleting English texts\n",
    "\n",
    "filt=data_ingsiz[\"TICKET_DESC\"].str.contains(\"To whom it may concern,\\nI would like to ask where I can buy the Istanbul Mavi Kart, thank you\\n\\nBest regards,\\n\\nİlgili makama,\\nİstanbul Mavi Kart'ı nereden alabilirim diye sormak istiyorum, teşekkür ederim\", na=False )\n",
    "data_ingsiz.loc[filt, [\"TICKET_DESC\",\"ORG_TICKET_ID\", \"preProcessing\",\"lang\"]]"
   ]
  },
  {
   "cell_type": "code",
   "execution_count": null,
   "metadata": {
    "id": "jQNSzX6kPsQC"
   },
   "outputs": [],
   "source": [
    "data_ingsiz.to_csv(r'drive/My Drive/..yourpath../PreProcessing_pt1.csv', index=False) "
   ]
  },
  {
   "cell_type": "code",
   "execution_count": null,
   "metadata": {
    "colab": {
     "base_uri": "https://localhost:8080/"
    },
    "id": "WBPJwQHLtbEA",
    "outputId": "60f9ca4b-5ac9-48db-cec6-e049235987c1"
   },
   "outputs": [
    {
     "data": {
      "text/plain": [
       "(805450, 10)"
      ]
     },
     "execution_count": 68,
     "metadata": {
      "tags": []
     },
     "output_type": "execute_result"
    }
   ],
   "source": [
    "data_ingsiz.shape"
   ]
  },
  {
   "cell_type": "markdown",
   "metadata": {
    "id": "bhO-ir48t3xq"
   },
   "source": [
    "# <font color='red'> Step 2: Sampling </font>"
   ]
  },
  {
   "cell_type": "markdown",
   "metadata": {},
   "source": [
    "Our data is very big, with almost a million of rows. Considering the time and resources needed to analyze such big data, we decided to proceed with the process by drawing a random sample from our data."
   ]
  },
  {
   "cell_type": "code",
   "execution_count": null,
   "metadata": {
    "id": "JcwPzMaybRsg"
   },
   "outputs": [],
   "source": [
    "dataP = pd.read_csv(r'drive/My Drive/..yourpath../PreProcessing_pt1.csv') #reading data_ingsiz dataframe"
   ]
  },
  {
   "cell_type": "code",
   "execution_count": null,
   "metadata": {
    "id": "Bcw9gXtqrkDC"
   },
   "outputs": [],
   "source": [
    "dataP['X_IBB_COUNTY'].value_counts().to_frame() #check all Counties"
   ]
  },
  {
   "cell_type": "code",
   "execution_count": null,
   "metadata": {
    "id": "WWTI90AzwKjH"
   },
   "outputs": [],
   "source": [
    "dataP['X_IBB_COUNTY'].value_counts().index.tolist()"
   ]
  },
  {
   "cell_type": "code",
   "execution_count": null,
   "metadata": {
    "id": "r__inBNPwMqS"
   },
   "outputs": [],
   "source": [
    "# 39 Counties in İstanbul\n",
    "ist_ilce = ['ADALAR', 'ARNAVUTKÖY', 'ATAŞEHİR', 'AVCILAR', 'BAĞCILAR', 'BAHÇELİEVLER', 'BAKIRKÖY', 'BAŞAKŞEHİR', 'BAYRAMPAŞA', 'BEŞİKTAŞ', 'BEYKOZ', 'BEYLİKDÜZÜ', 'BEYOĞLU', 'BÜYÜKÇEKMECE', 'ÇATALCA', 'ÇEKMEKÖY', 'ESENLER', 'ESENYURT', 'EYÜPSULTAN', 'FATİH', 'GAZİOSMANPAŞA', 'GÜNGÖREN', 'KADIKÖY', 'KAĞITHANE', 'KARTAL', 'KÜÇÜKÇEKMECE', 'MALTEPE', 'PENDİK', 'SANCAKTEPE', 'SARIYER', 'ŞİŞLİ', 'ŞİLE', 'SİLİVRİ', 'SULTANBEYLİ', 'SULTANGAZİ', 'TUZLA', 'ÜMRANİYE', 'ÜSKÜDAR', 'ZEYTİNBURNU']"
   ]
  },
  {
   "cell_type": "code",
   "execution_count": null,
   "metadata": {
    "colab": {
     "base_uri": "https://localhost:8080/"
    },
    "id": "bVaSKyYvwPhv",
    "outputId": "7761b208-f1b3-4fd8-b634-8b2fba3b2461"
   },
   "outputs": [
    {
     "data": {
      "text/plain": [
       "39"
      ]
     },
     "execution_count": 164,
     "metadata": {
      "tags": []
     },
     "output_type": "execute_result"
    }
   ],
   "source": [
    "len(ist_ilce)"
   ]
  },
  {
   "cell_type": "code",
   "execution_count": null,
   "metadata": {
    "id": "s-pxeqJfwZXW"
   },
   "outputs": [],
   "source": [
    "df2 = dataP[dataP['X_IBB_COUNTY'].isin(ist_ilce)] \n",
    "\n",
    "# We noticed that the data contains counties oustide of Istanbul.\n",
    "# We will remove them, as we are only interested in conducting Istanbul's sentiment analysis."
   ]
  },
  {
   "cell_type": "markdown",
   "metadata": {
    "id": "MsOI051v3UqI"
   },
   "source": [
    "Before sampling, we separate all positive tickets, as they are relatively fewer. Thus, we extract all \"TEŞEKKÜRLER\" SR_AREA rows from the dataset because we plan to add those at the end."
   ]
  },
  {
   "cell_type": "code",
   "execution_count": null,
   "metadata": {
    "id": "BP0K0iouzi29"
   },
   "outputs": [],
   "source": [
    "df2.drop(df2[df2.SR_AREA != \"TEŞEKKÜRLER\"].index, inplace = True)"
   ]
  },
  {
   "cell_type": "code",
   "execution_count": null,
   "metadata": {
    "colab": {
     "base_uri": "https://localhost:8080/"
    },
    "id": "_NO0iuAK1zeg",
    "outputId": "f88eb095-dca8-463e-a94d-103d5e4d7106"
   },
   "outputs": [
    {
     "data": {
      "text/plain": [
       "(2796, 10)"
      ]
     },
     "execution_count": 46,
     "metadata": {
      "tags": []
     },
     "output_type": "execute_result"
    }
   ],
   "source": [
    "df2.shape\n"
   ]
  },
  {
   "cell_type": "code",
   "execution_count": null,
   "metadata": {
    "id": "wdrHwWKKyxhm"
   },
   "outputs": [],
   "source": [
    "df2.to_csv(r'drive/My Drive/Veri Setleri/pozitif.csv', index=False) "
   ]
  },
  {
   "cell_type": "markdown",
   "metadata": {
    "id": "SHQof5OLSquk"
   },
   "source": [
    "We continue with sampling."
   ]
  },
  {
   "cell_type": "code",
   "execution_count": null,
   "metadata": {
    "id": "f2oH8lqECQCC"
   },
   "outputs": [],
   "source": [
    "dataP=dataP[dataP['X_IBB_COUNTY'].isin(ist_ilce)] "
   ]
  },
  {
   "cell_type": "code",
   "execution_count": null,
   "metadata": {
    "id": "j0W5K8CyxYjL"
   },
   "outputs": [],
   "source": [
    "A=dataP['X_IBB_COUNTY'].value_counts() # All 39 counties can be counted with their ticket amounts."
   ]
  },
  {
   "cell_type": "code",
   "execution_count": null,
   "metadata": {
    "id": "0PpYwhTLVtH0"
   },
   "outputs": [],
   "source": [
    "print(A)"
   ]
  },
  {
   "cell_type": "code",
   "execution_count": null,
   "metadata": {
    "id": "2Qdx-xung3h8"
   },
   "outputs": [],
   "source": [
    "df_i = dataP.set_index(\"ORG_TICKET_ID\") # Making uniq ticket ids as indexes because we will sample the dataset by those ids."
   ]
  },
  {
   "cell_type": "code",
   "execution_count": null,
   "metadata": {
    "id": "q5X6-6EHsPeY"
   },
   "outputs": [],
   "source": [
    "b= dataP.shape[0]/ 200000 # We will sample out the 200.000 tickets from dataP row counts.\n",
    "print(b) # Sample ratio"
   ]
  },
  {
   "cell_type": "code",
   "execution_count": null,
   "metadata": {
    "id": "xPSbyvEa3gKK"
   },
   "outputs": [],
   "source": [
    "def ayrıdf(i):\n",
    "  filter=(dataP['X_IBB_COUNTY'].str.contains(i, na=False) & (dataP[\"SR_AREA\"]!=\"TEŞEKKÜRLER\") ) # Filtering the dataframe for each county\n",
    "  df3=dataP.loc[filter]\n",
    "  aa=pd.DataFrame(df3) # County specific dataframe\n",
    "  count=int(int(A.loc[i])/b) # County specific sample size\n",
    "  sampled=aa[\"ORG_TICKET_ID\"].sample(n= count) # Sampling\n",
    "  df_pre= df_i.loc[sampled] \n",
    "  df_pre.reset_index(inplace=True)\n",
    "  return  df_pre.to_csv(r'drive/My Drive/Veri Setleri/county_sample/{0}.csv'.format(i), index=False)"
   ]
  },
  {
   "cell_type": "code",
   "execution_count": null,
   "metadata": {
    "id": "Ymgjv6Nr3n5d"
   },
   "outputs": [],
   "source": [
    "for i in ist_ilce:\n",
    "  ayrıdf(i)"
   ]
  },
  {
   "cell_type": "markdown",
   "metadata": {
    "id": "1s2jqh-n44DA"
   },
   "source": [
    "## <font color='blue'> Merging Into One Dataset </font>"
   ]
  },
  {
   "cell_type": "markdown",
   "metadata": {
    "id": "qdJ_nJPWARp3"
   },
   "source": [
    "https://www.freecodecamp.org/news/how-to-combine-multiple-csv-files-with-8-lines-of-code-265183e0854/"
   ]
  },
  {
   "cell_type": "code",
   "execution_count": null,
   "metadata": {
    "id": "tZCcFK9s4-Dz"
   },
   "outputs": [],
   "source": [
    "os.chdir(\"drive/My Drive/Veri Setleri/yeşim/totalsample\") "
   ]
  },
  {
   "cell_type": "code",
   "execution_count": null,
   "metadata": {
    "id": "k_m0CPhf_EM6"
   },
   "outputs": [],
   "source": [
    "extension = 'csv'\n",
    "all_filenames = [i for i in glob.glob('*.{}'.format(extension))]"
   ]
  },
  {
   "cell_type": "code",
   "execution_count": null,
   "metadata": {
    "id": "MLfRcN2B_IaV"
   },
   "outputs": [],
   "source": [
    "# Combine all files in the list.\n",
    "\n",
    "combined_csv = pd.concat([pd.read_csv(f) for f in all_filenames ])\n",
    "\n",
    "# Export to csv.\n",
    "\n",
    "combined_csv.to_csv( \"combined.csv\", index=False, encoding='utf-8-sig')"
   ]
  },
  {
   "cell_type": "code",
   "execution_count": null,
   "metadata": {
    "id": "HeTpyCM6_K-1"
   },
   "outputs": [],
   "source": [
    "comb=pd.read_csv(\"combined.csv\") "
   ]
  },
  {
   "cell_type": "code",
   "execution_count": null,
   "metadata": {
    "id": "-ZVKWp8tHkv1"
   },
   "outputs": [],
   "source": [
    "comb['X_IBB_COUNTY'].value_counts() # Check"
   ]
  },
  {
   "cell_type": "code",
   "execution_count": null,
   "metadata": {
    "id": "yP8qwVQqBi2A"
   },
   "outputs": [],
   "source": [
    "comb_pos = pd.concat([comb, df2 ]) # Combine 200.000 tickets with positive tickets extracted before. "
   ]
  },
  {
   "cell_type": "markdown",
   "metadata": {},
   "source": [
    "# <font color='red'> Step 3: Correcting Mispelled Words </font>"
   ]
  },
  {
   "cell_type": "code",
   "execution_count": null,
   "metadata": {
    "id": "eMGTHgnSruEV"
   },
   "outputs": [],
   "source": [
    "import jpype\n",
    "from jpype import getDefaultJVMPath,JClass\n",
    "jar = r\"drive/MyDrive/NLP/Kutuphaneler, Kaynaklar/zemberek-full.jar\" \n",
    "from jpype import getDefaultJVMPath,JClass\n",
    "if not jpype.isJVMStarted():\n",
    "    jpype.startJVM(getDefaultJVMPath(), classpath=[jar])"
   ]
  },
  {
   "cell_type": "code",
   "execution_count": null,
   "metadata": {
    "id": "cTDcFTeBdlG9"
   },
   "outputs": [],
   "source": [
    "#downloading packages from zemberek framework\n",
    "ZEMBEREK_PATH = r'drive/MyDrive/NLP/Kutuphaneler, Kaynaklar/zemberek-full.jar'\n",
    "TurkishMorphology = JClass('zemberek.morphology.TurkishMorphology')\n",
    "TurkishSpellChecker = JClass('zemberek.normalization.TurkishSpellChecker')\n",
    "TurkishSentenceNormalizer = JClass('zemberek.normalization.TurkishSentenceNormalizer')\n",
    "Paths = JClass('java.nio.file.Paths')\n",
    "lookupRoot = Paths.get(\"drive/MyDrive/NLP/Kutuphaneler, Kaynaklar/normalization\")\n",
    "lmPath = Paths.get(\"drive/MyDrive/NLP/Kutuphaneler, Kaynaklar/data/lm/lm.2gram.slm\")\n",
    "morphology = TurkishMorphology.createWithDefaults()\n",
    "morph = TurkishMorphology.createWithDefaults()\n",
    "spell = TurkishSpellChecker(morph)"
   ]
  },
  {
   "cell_type": "code",
   "execution_count": null,
   "metadata": {
    "id": "veMABjrAovXk"
   },
   "outputs": [],
   "source": [
    "WPT = nltk.WordPunctTokenizer()\n",
    "stop_word_list = nltk.corpus.stopwords.words('turkish')\n",
    "stop_word_list.remove('ama')\n",
    "WORDS = dict()\n",
    "spell_folder = Path(r\"drive/MyDrive/NLP/Kutuphaneler, Kaynaklar\")\n",
    "def words(text): return re.findall(r'\\w+', text.lower())\n",
    "with open(os.path.expanduser(Path(spell_folder/ \"big2_yesim.txt\")), \"r\", encoding = 'utf-8') as f: \n",
    "#big2_yesim.txt is a folder which contains word dictionary , also some words are added special to our dataset such as \"Covid\"\n",
    "    for line in f:\n",
    "        splitted = line.split()\n",
    "        WORDS[splitted[0]] = int(splitted[1])"
   ]
  },
  {
   "cell_type": "code",
   "execution_count": null,
   "metadata": {
    "id": "-9fJMMVPovac"
   },
   "outputs": [],
   "source": [
    "def reverse(s): \n",
    "    if len(s) == 0: \n",
    "        return s \n",
    "    else: \n",
    "        return reverse(s[1:]) + s[0] \n",
    "\n",
    "def checkOpennes(word):\n",
    "    vowels=['a','e','i','ı','o','ö','u','ü']\n",
    "    open_vowels=['e','i','ü','ö']\n",
    "    close_vowels=['a','ı','o','u']\n",
    "    for i in range(len(word)):\n",
    "        if reverse(word)[i] in vowels:\n",
    "            if reverse(word)[i] in open_vowels:\n",
    "                return True\n",
    "            else:\n",
    "                return False\n",
    "        else:\n",
    "            continue\n",
    "def PresentCheck(word):\n",
    "        ei=['e','i']\n",
    "        aı=['a','ı']\n",
    "        üö=['ü','ö']\n",
    "        uo=['u','o']\n",
    "        for i in range(len(word)):\n",
    "            if reverse(word)[i] in ei:\n",
    "                return 'ei'\n",
    "            elif reverse(word)[i] in üö:\n",
    "                return 'üö'\n",
    "            elif reverse(word)[i] in aı:\n",
    "                return 'aı'\n",
    "            elif reverse(word)[i] in uo:\n",
    "                return 'uo'\n",
    "            else:\n",
    "                continue\n",
    "    \n",
    "def StartCheck(word):\n",
    "        ei=['e','i']\n",
    "        aı=['a','ı']\n",
    "        üö=['ü','ö']\n",
    "        uo=['u','o']\n",
    "        for i in range(len(word)):\n",
    "            if (word)[i] in ei:\n",
    "                return 'ei'\n",
    "            elif (word)[i] in üö:\n",
    "                return 'üö'\n",
    "            elif (word)[i] in aı:\n",
    "                return 'aı'\n",
    "            elif (word)[i] in uo:\n",
    "                return 'uo'\n",
    "            else:\n",
    "                continue\n",
    "def replaceall(s, n,a):\n",
    "    occurence = s.count(n)\n",
    "    alt = []\n",
    "    temp = s\n",
    "    for i in range(occurence):\n",
    "        temp2 = temp\n",
    "        for j in range(i,occurence):\n",
    "            temp2 = temp2.replace(n,a,1)\n",
    "            alt.append(temp2)\n",
    "        temp = temp.replace(n,\"!\",1)\n",
    "    for i in range(len(alt)):\n",
    "        alt[i] = alt[i].replace(\"!\",n)\n",
    "\n",
    "    return alt\n",
    "\n",
    "def P(word, N=sum(WORDS.values())):\n",
    "    \"Probability of `word`.\"\n",
    "    if  word in WORDS.keys():\n",
    "        number = WORDS[word]\n",
    "    else:\n",
    "        number = 1\n",
    "    if number == 0:\n",
    "        number = 1\n",
    "    return number / N\n",
    "\n",
    "def correction(word):\n",
    "      return max(candi(word), key=P)\n",
    "\n",
    "def candi(word):\n",
    "    \"Generate possible spelling corrections for word.\"\n",
    "    return (known([word]) or known(edits1(word)) or known(edits2(word)) or [word])\n",
    "\n",
    "def known(words):\n",
    "    \"The subset of `words` that appear in the dictionary of WORDS.\"\n",
    "    return set(w for w in words if w in WORDS)\n",
    "\n",
    "def edits1(word):\n",
    "    \"All edits that are one edit away from `word`.\"\n",
    "    letters    = 'abcçdefgğhıijklmnoöprsştuüvyzw'\n",
    "    splits     = [(word[:i], word[i:])    for i in range(len(word) + 1)]\n",
    "    deletes    = [L + R[1:]               for L, R in splits if R]\n",
    "    transposes = [L + R[1] + R[0] + R[2:] for L, R in splits if len(R)>1]\n",
    "    replaces   = [L + c + R[1:]           for L, R in splits if R for c in letters]\n",
    "    inserts    = [L + c + R               for L, R in splits for c in letters]\n",
    " \n",
    "    sp     = replaceall(word,'ı','i')\n",
    "    sp2     = replaceall(word,'u','ü')\n",
    "    sp3    = replaceall(word,'o','ö')\n",
    "    sp4     = replaceall(word,'g','ğ')\n",
    "    sp5     = replaceall(word,'c','ç')\n",
    "    sp6     = replaceall(word,'s','ş')\n",
    "    sp7     = replaceall(word,'i','ı')\n",
    "    sp8     = replaceall(word,'ö','o')\n",
    "    sp9     = replaceall(word,'ş','s')\n",
    "    sp10     = replaceall(word,'ğ','g')\n",
    "    sp11     = replaceall(word,'ç','c')\n",
    "    sp12     = replaceall(word,'ü','u')\n",
    "    specials=[]\n",
    "    specials.extend(sp)\n",
    "    specials.extend(sp2)\n",
    "    specials.extend(sp3)\n",
    "    specials.extend(sp4)\n",
    "    specials.extend(sp5)\n",
    "    specials.extend(sp6)\n",
    "    specials.extend(sp7)\n",
    "    specials.extend(sp8)\n",
    "    specials.extend(sp9)\n",
    "    specials.extend(sp10)\n",
    "    specials.extend(sp11)\n",
    "    specials.extend(sp12)\n",
    "    return set(deletes+transposes+replaces+inserts+specials)\n",
    "\n",
    "def edits2(word):\n",
    "    \"All edits that are two edits away from `word`.\"\n",
    "    return (e2 for e1 in edits1(word) for e2 in edits1(e1))\n",
    "def print_diff(word, s):\n",
    "    if not word == s:\n",
    "        print(word + \" --> \" + s)\n",
    "counter = 0\n",
    "\n",
    "\n",
    "def lemmatizer(word,texts):\n",
    "        wordList=[]\n",
    "        wordList = re.sub(\"[^\\w]\", \" \",  texts).split()\n",
    "       \n",
    "        pos=wordList.index(word)\n",
    "     \n",
    "        sakin=''\n",
    "        word=correction(word)\n",
    "        \n",
    "        if len(wordList)-pos>3 and pos>2:\n",
    "            for i, kelime in enumerate(wordList[pos-3:pos+4]):\n",
    "                sakin=sakin+correction(kelime)+' '\n",
    "        elif pos<=2 and len(wordList)-pos>5:\n",
    "            for i, kelime in enumerate(wordList[pos:pos+5]):\n",
    "                sakin=sakin+correction(kelime)+' '\n",
    "        elif pos<=2 and len(wordList)-pos<=5:\n",
    "            for i, kelime in enumerate(wordList[pos:len(wordList)]):\n",
    "                sakin=sakin+correction(kelime)+' '\n",
    "        elif len(wordList)-pos<1 and pos>3:\n",
    "            for i, kelime in enumerate(wordList[pos-3:len(wordList)]):\n",
    "                sakin=sakin+correction(kelime)+' '\n",
    "        elif len(wordList)<3:\n",
    "            for i, kelime in enumerate(wordList):\n",
    "                sakin=sakin+correction(kelime)+' '\n",
    "        else:\n",
    "             for i, kelime in enumerate(wordList):\n",
    "                sakin=sakin+correction(kelime)+' '\n",
    "        results = morphology.analyze(word)\n",
    "        lemma=[]\n",
    "        form=[]\n",
    "        l=[]\n",
    "        m=[]\n",
    "        for i, result in enumerate(results):\n",
    "            form.append(str(result.formatLong()))\n",
    "            lemma.append(result.getLemmas()[0])\n",
    "        if len(lemma)>1:\n",
    "                analysis = morphology.analyzeSentence(sakin)\n",
    "                results = morphology.disambiguate(sakin, analysis).bestAnalysis()\n",
    "                for i, result in enumerate(results):\n",
    "                        l.append(result.getLemmas()[0])\n",
    "                        m.append(result.formatLong())\n",
    "                for i in range(len(m)):\n",
    "                    for j in range(len(form)):\n",
    "                        if m[i]==form[j]:\n",
    "                            lema=lemma[j]\n",
    "                            if lema=='değil':\n",
    "                                return 'değil'\n",
    "                            if 'Neg' in form[j] or 'WithoutHavingDoneSo' in form[j] or 'Unable' in form[j]:\n",
    "                                if checkOpennes(word):\n",
    "                                    return lema+'me'\n",
    "                                else:\n",
    "                                    return lema+'ma'\n",
    "                            if 'Without' in form[j]:\n",
    "                                if PresentCheck(word)=='ei':\n",
    "                                    return lema+'siz'\n",
    "                                elif PresentCheck(word)=='aı':\n",
    "                                    return lema+'sız'\n",
    "                                elif PresentCheck(word)=='uo':\n",
    "                                    return lema+'suz'\n",
    "                                else:\n",
    "                                    return lema+'süz'\n",
    "                            if 'With' in form[j]:\n",
    "                                if PresentCheck(word)=='ei':\n",
    "                                    return lema+'li'\n",
    "                                elif PresentCheck(word)=='aı':\n",
    "                                    return lema+'lı'\n",
    "                                elif PresentCheck(word)=='uo':\n",
    "                                    return lema+'lu'\n",
    "                                else:\n",
    "                                    return lema+'lü'\n",
    "                            else:\n",
    "                                return lema\n",
    "                    else:\n",
    "                        continue\n",
    "        elif len(lemma)==1:\n",
    "            if lemma[0]=='değil':\n",
    "                return lemma[0]\n",
    "            if 'Neg' in form[0] or 'WithoutHavingDoneSo' in form[0] or 'Unable' in form[0]:\n",
    "                 if checkOpennes(word):\n",
    "                    return lemma[0]+'me'\n",
    "                 else:\n",
    "                    return lemma[0]+'ma'\n",
    "            elif 'Without' in form[0]:\n",
    "                if PresentCheck(word)=='ei':\n",
    "                    return lemma[0]+'siz'\n",
    "                elif PresentCheck(word)=='aı':\n",
    "                    return lemma[0]+'sız'\n",
    "                elif PresentCheck(word)=='uo':\n",
    "                    return lemma[0]+'suz'\n",
    "                else:\n",
    "                    return lemma[0]+'süz'\n",
    "            elif 'With' in form[0]:\n",
    "                if PresentCheck(word)=='ei':\n",
    "                    return lemma[0]+'li'\n",
    "                elif PresentCheck(word)=='aı':\n",
    "                    return lemma[0]+'lı'\n",
    "                elif PresentCheck(word)=='uo':\n",
    "                    return lemma[0]+'lu'\n",
    "                else:\n",
    "                    return lemma[0]+'lü'\n",
    "            else:\n",
    "                return lemma[0]\n",
    "        else:\n",
    "            return word\n",
    "\n",
    "\n"
   ]
  },
  {
   "cell_type": "code",
   "execution_count": null,
   "metadata": {
    "id": "L2vmZBfjGpQH"
   },
   "outputs": [],
   "source": [
    "# To shorten the process time we created a dictionary from the previous corrected words by the lemmatizer function.\n",
    "# If a word is corrected previously, it will skip the above functions and is directly replaced with the corrected version from the dictionary.\n",
    "\n",
    "import json\n",
    "f = open(r\"drive/MyDrive/NLP/Kutuphaneler, Kaynaklar/clean optimizasyon/bizim_sozluk.json\", \"r\")\n",
    "str_sozluk=f.read()\n",
    "str_sozluk=str_sozluk.replace(\"\\'\", \"\\\"\")\n",
    "bizim_sozluk = json.loads(str_sozluk)"
   ]
  },
  {
   "cell_type": "code",
   "execution_count": null,
   "metadata": {
    "id": "zMhMYQ4P6i5Y"
   },
   "outputs": [],
   "source": [
    "def clean(text):\n",
    "    text_list=text.split()\n",
    "    for i, word in enumerate(text_list):\n",
    "        if (word in bizim_sozluk):\n",
    "          text_list[i] =bizim_sozluk[word]\n",
    "        else:\n",
    "          text_list[i] = lemmatizer(word,text)\n",
    "          bizim_sozluk[word]= text_list[i]\n",
    "    return ' '.join(''.join(elems) for elems in text_list)"
   ]
  },
  {
   "cell_type": "code",
   "execution_count": null,
   "metadata": {
    "id": "CXd8IqCAovfr"
   },
   "outputs": [],
   "source": [
    "comb_pos[\"clean_new\"]=comb_pos[\"preProcessing\"].map(clean)\n",
    "\n",
    "# df[\"clean\"].iloc[0:2000]=df[\"preProcessing\"].iloc[0:2000].map(clean) --> You can work the code with row batches"
   ]
  },
  {
   "cell_type": "code",
   "execution_count": null,
   "metadata": {
    "id": "KiYeEn15HzcH"
   },
   "outputs": [],
   "source": [
    "## Updating the dictionary in each row batches.\n",
    "# Will shorten the other -comb_pos[\"clean\"]=comb_pos[\"preProcessing\"].map(clean)- cycle time\n",
    "\n",
    "with open(r'drive/MyDrive/NLP/Kutuphaneler, Kaynaklar/clean optimizasyon/bizim_sozluk.json', 'w') as f:\n",
    "    print(bizim_sozluk, file=f)\n",
    "f = open(r\"drive/MyDrive/NLP/Kutuphaneler, Kaynaklar/clean optimizasyon/bizim_sozluk.json\", \"r\")\n",
    "str_sozluk=f.read()\n",
    "str_sozluk=str_sozluk.replace(\"\\'\", \"\\\"\")\n",
    "bizim_sozluk = json.loads(str_sozluk)"
   ]
  },
  {
   "cell_type": "code",
   "execution_count": null,
   "metadata": {
    "id": "WPCWyyUDI14l"
   },
   "outputs": [],
   "source": [
    "comb_pos.to_csv(r'drive/My Drive/Veri Setleri/ETİKETLENENLER/SON/final_data-tagpozclean.csv', index=False) "
   ]
  },
  {
   "cell_type": "markdown",
   "metadata": {},
   "source": [
    "## <font color='blue'> Name-Entity Recognition </font>"
   ]
  },
  {
   "cell_type": "code",
   "execution_count": null,
   "metadata": {
    "id": "wgEnCz9JLmwm"
   },
   "outputs": [],
   "source": [
    "s1=comb_pos[\"clean_new\"]\n",
    "s2=[word for sentences in s1 for word in sentences.split()]\n",
    "len(set(s2)) #uniq word counts to compare our last point to the start point"
   ]
  },
  {
   "cell_type": "code",
   "execution_count": null,
   "metadata": {
    "id": "7HyHH-NmL8MY"
   },
   "outputs": [],
   "source": [
    "!pip install transformers"
   ]
  },
  {
   "cell_type": "code",
   "execution_count": null,
   "metadata": {
    "id": "9SPP52qdL_bI"
   },
   "outputs": [],
   "source": [
    "from transformers import pipeline, AutoModelForTokenClassification, AutoTokenizer\n",
    "model = AutoModelForTokenClassification.from_pretrained(\"savasy/bert-base-turkish-ner-cased\")\n",
    "tokenizer = AutoTokenizer.from_pretrained(\"savasy/bert-base-turkish-ner-cased\")\n",
    "ner_model=pipeline('ner', model=model, tokenizer=tokenizer)\n",
    "# using transfer learning in this phase : BERT NER Model"
   ]
  },
  {
   "cell_type": "code",
   "execution_count": null,
   "metadata": {
    "id": "qtiEfHo_McEW"
   },
   "outputs": [],
   "source": [
    "silinmeyecekler=[\"arı\",\"peron\",\"durak\",\"ring\",\"roger\",\"rogar\",\"sivrisinek\",\"sivri\",\"karasinek\"]\n",
    "silinmeyecekler=set(silinmeyecekler) \n",
    "## Those words are determined in the labelling phase as important. \n",
    "# That's why those words won't be deleted by NER code."
   ]
  },
  {
   "cell_type": "code",
   "execution_count": null,
   "metadata": {
    "id": "a7Xh-KaYMsax"
   },
   "outputs": [],
   "source": [
    "def ner_bul(text): \n",
    "  kelime_dizisi=text.split()\n",
    "  son_hal=\"\"\n",
    "  for i in kelime_dizisi:\n",
    "    if (i in silinmeyecekler):\n",
    "      son_hal+=\" \"+i\n",
    "    else:\n",
    "      result=ner_model(i)\n",
    "      if (result!=[]):\n",
    "        if (result[0][\"score\"]>=0.94): #0.94 limit is determined by reviewing NER results on our final dataset.\n",
    "          continue\n",
    "        else:\n",
    "          son_hal+=\" \"+i\n",
    "      else:\n",
    "        son_hal+=\" \"+i\n",
    "  return son_hal"
   ]
  },
  {
   "cell_type": "code",
   "execution_count": null,
   "metadata": {
    "id": "J1-b-7NvNTqE"
   },
   "outputs": [],
   "source": [
    "df[\"clean_ner\"]=df[\"clean_new\"].map(ner_bul)"
   ]
  },
  {
   "cell_type": "code",
   "execution_count": null,
   "metadata": {
    "id": "AjV1EX6cNdoP"
   },
   "outputs": [],
   "source": [
    "#checking unique word count after deleting name entities\n",
    "s1=comb_pos[\"clean_ner\"]\n",
    "s2=[word for sentences in s1 for word in sentences.split()]\n",
    "len(set(s2))"
   ]
  },
  {
   "cell_type": "markdown",
   "metadata": {
    "id": "1s2jqh-n44DA"
   },
   "source": [
    "## <font color='blue'> Deleting Names </font>"
   ]
  },
  {
   "cell_type": "code",
   "execution_count": null,
   "metadata": {
    "id": "-sdWrkZ9N-ua"
   },
   "outputs": [],
   "source": [
    "path=\"drive/MyDrive/NLP/son_rötuş\""
   ]
  },
  {
   "cell_type": "code",
   "execution_count": null,
   "metadata": {
    "id": "5y_o12oMN1WE"
   },
   "outputs": [],
   "source": [
    "f = open(r\"{0}/isimler\".format(path), \"r\") # \"isimler\" file contains person name list\n",
    "isim=f.read()\n",
    "print(f.read()) "
   ]
  },
  {
   "cell_type": "code",
   "execution_count": null,
   "metadata": {
    "id": "hj8jOAnMOHMQ"
   },
   "outputs": [],
   "source": [
    "isim=isim.replace(\"\\n\", \" \") \n",
    "isim_listesi=isim.split(\" \")\n",
    "isim_listesi #make ready the person name file as a list"
   ]
  },
  {
   "cell_type": "code",
   "execution_count": null,
   "metadata": {
    "id": "fFNGZn83OVN5"
   },
   "outputs": [],
   "source": [
    "set_isim_list=set(isim_listesi)"
   ]
  },
  {
   "cell_type": "code",
   "execution_count": null,
   "metadata": {
    "id": "A-eO5uv0OZQW"
   },
   "outputs": [],
   "source": [
    "isimler=[]\n",
    "for i in set_isim_list:\n",
    "  isimler.append(i.lower())"
   ]
  },
  {
   "cell_type": "code",
   "execution_count": null,
   "metadata": {
    "id": "ezmll3UQOhTs"
   },
   "outputs": [],
   "source": [
    "def isim_sil(text):\n",
    "  texts=text.split()\n",
    "  sonhal=\"\"\n",
    "  for i in texts:\n",
    "    if (i in isimler):\n",
    "      ##delete\n",
    "      continue\n",
    "    else:\n",
    "      ##don't delete\n",
    "      sonhal+=\" \"+i\n",
    "  return sonhal"
   ]
  },
  {
   "cell_type": "code",
   "execution_count": null,
   "metadata": {
    "id": "lWAJbXiXOs0m"
   },
   "outputs": [],
   "source": [
    "comb_pos[\"clean_ner\"]=comb_pos[\"clean_ner\"].map(isim_sil)"
   ]
  },
  {
   "cell_type": "code",
   "execution_count": null,
   "metadata": {
    "id": "Nq-8yX5bOyB5"
   },
   "outputs": [],
   "source": [
    "# unique words after cleaning the person names from the dataframe\n",
    "s1=comb_pos[\"clean_ner\"]\n",
    "s2=[word for sentences in s1 for word in sentences.split()]\n",
    "len(set(s2))"
   ]
  },
  {
   "cell_type": "markdown",
   "metadata": {
    "id": "1s2jqh-n44DA"
   },
   "source": [
    "## <font color='blue'> Splitting Unseparated Words </font>"
   ]
  },
  {
   "cell_type": "code",
   "execution_count": null,
   "metadata": {
    "id": "GiTXO_39PRMR"
   },
   "outputs": [],
   "source": [
    "import json\n",
    "f = open(r\"{0}/bizim_sozluk.json\".format(path), \"r\") \n",
    "zemb_dict=f.read()\n",
    "zemb_dict=zemb_dict.replace(\"\\'\", \"\\\"\")\n",
    "zemb_dict = json.loads(zemb_dict) \n",
    "# the dictionary that is occur in Cleaning chapter from the corrected words"
   ]
  },
  {
   "cell_type": "code",
   "execution_count": null,
   "metadata": {
    "id": "0oRpDf4ZQCdW"
   },
   "outputs": [],
   "source": [
    "zemb_dict={ k:v  for k,v in zemb_dict.items() if (k!=v) }\n",
    "len(zemb_dict)"
   ]
  },
  {
   "cell_type": "code",
   "execution_count": null,
   "metadata": {
    "id": "xDoPcV8fQJzN"
   },
   "outputs": [],
   "source": [
    "import json\n",
    "f = open(r\"{0}/master.txt\".format(path), \"r\")\n",
    "dictionary=f.read()\n",
    "dictionary = dictionary.strip('][').split(', ') \n",
    "for i in range(len(dictionary)):\n",
    "    dictionary[i]=dictionary[i].replace(\"\\'\", \"\") # another open source word dictionary added into the process to help splitting code"
   ]
  },
  {
   "cell_type": "code",
   "execution_count": null,
   "metadata": {
    "id": "Qd-gJabrQPww"
   },
   "outputs": [],
   "source": [
    "dictionary=[i.replace('\"',\"\") for i in dictionary]\n",
    "len(dictionary)"
   ]
  },
  {
   "cell_type": "code",
   "execution_count": null,
   "metadata": {
    "id": "jTASTPXXQQbA"
   },
   "outputs": [],
   "source": [
    "# latest unique word counting\n",
    "s1=comb_pos[\"clean_ner\"]\n",
    "s2=[word for sentences in s1 for word in sentences.split()]\n",
    "len(set(s2)) "
   ]
  },
  {
   "cell_type": "code",
   "execution_count": null,
   "metadata": {
    "id": "pAMXJ7I6Rk36"
   },
   "outputs": [],
   "source": [
    "notInDict=set(words)-set(dictionary)"
   ]
  },
  {
   "cell_type": "code",
   "execution_count": null,
   "metadata": {
    "id": "WFlYPF9qRnSF"
   },
   "outputs": [],
   "source": [
    "dictionary=set(dictionary)"
   ]
  },
  {
   "cell_type": "code",
   "execution_count": null,
   "metadata": {
    "id": "I-u2-LAcRpXw"
   },
   "outputs": [],
   "source": [
    "def splitword(word):\n",
    "\n",
    "    for x in range(3,len(word)-2): ## sağlıkduyar -> sağlık duyar\n",
    "        if (word[0:x] in dictionary and word[x:len(word)] in dictionary): \n",
    "            return word[0:x]+\" \"+word[x:len(word)]\n",
    "    for x in range(3,len(word)-2):  ## duyarsağlik -> duyar sağlık\n",
    "        if (word[0:x] in dictionary and word[x:len(word)] not in dictionary):\n",
    "          if ( word[x:len(word)] in zemb_dict):\n",
    "            return word[0:x]+\" \"+zemb_dict[word[x:len(word)]]\n",
    "    for x in range(3,len(word)-2):  ##ssağlikduyar -> sağlık duyar\n",
    "        if (word[0:x] not in dictionary and word[x:len(word)]  in dictionary):\n",
    "          if ( word[0:x] in zemb_dict):\n",
    "            return zemb_dict[word[0:x]]+\" \"+word[x:len(word)]\n",
    "    ## checking the zemb_dict\n",
    "    for x in range(3,len(word)-2): ### sağlikbenım -> sağlık ben\n",
    "        if (word[0:x]  in zemb_dict and word[x:len(word)]  in zemb_dict):\n",
    "          return zemb_dict[word[0:x]]+\" \"+zemb_dict[word[x:len(word)]]\n",
    "    for x in range(3,len(word)-2): ### sağlikbenımm -> sağlık benımm\n",
    "        if (word[0:x]  in zemb_dict and word[x:len(word)] not in zemb_dict):\n",
    "          return zemb_dict[word[0:x]]+\" \"+word[x:len(word)]\n",
    "    for x in range(3,len(word)-2): ### benımsağlik -> benımm sağlık\n",
    "        if (word[0:x] not in zemb_dict and word[x:len(word)]  in zemb_dict):\n",
    "          return word[0:x]+\" \"+zemb_dict[word[x:len(word)]]\n",
    "    return word"
   ]
  },
  {
   "cell_type": "code",
   "execution_count": null,
   "metadata": {
    "id": "nKC-tppWR23K"
   },
   "outputs": [],
   "source": [
    "yeni_degerler = [splitword(item) for item in tqdm(notInDict)]"
   ]
  },
  {
   "cell_type": "code",
   "execution_count": null,
   "metadata": {
    "id": "JmnxOzceR59k"
   },
   "outputs": [],
   "source": [
    "res = dict(zip(notInDict, yeni_degerler)) # {\"old word\": \"new word\"} dictionary content"
   ]
  },
  {
   "cell_type": "code",
   "execution_count": null,
   "metadata": {
    "id": "MiiRbhDUR-dX"
   },
   "outputs": [],
   "source": [
    "def df_uygula(text):\n",
    "  global count_esit\n",
    "  texts=text.split()\n",
    "  _son_hal=\"\"\n",
    "  for t in texts:\n",
    "    if t in res:\n",
    "      _son_hal+=\" \"+res[t]\n",
    "    else:\n",
    "      #don't delete\n",
    "      _son_hal+=\" \"+t\n",
    "  return _son_hal"
   ]
  },
  {
   "cell_type": "code",
   "execution_count": null,
   "metadata": {
    "id": "K_wFC_DGSCKp"
   },
   "outputs": [],
   "source": [
    "## Updating the comb_pos dataframe by res dictionary which is result of splitword function above\n",
    "comb_pos[\"splitWord\"]=comb_pos[\"clean_ner\"].map(df_uygula)"
   ]
  },
  {
   "cell_type": "code",
   "execution_count": null,
   "metadata": {
    "id": "9XF3xXF8StBE"
   },
   "outputs": [],
   "source": [
    "# unique words after splitword\n",
    "s1=comb_pos[\"splitWord\"]\n",
    "s2=[word for sentences in s1 for word in sentences.split()]\n",
    "len(set(s2))"
   ]
  },
  {
   "cell_type": "code",
   "execution_count": null,
   "metadata": {
    "id": "A9bDdYPyS0pl"
   },
   "outputs": [],
   "source": [
    "aynı_olan_resler={ k:v  for k,v in res.items() if (k==v) }\n",
    "len(aynı_olan_resler)"
   ]
  },
  {
   "cell_type": "code",
   "execution_count": null,
   "metadata": {
    "id": "xf9ie351TomA"
   },
   "outputs": [],
   "source": [
    "aynı_olan_resler"
   ]
  },
  {
   "cell_type": "code",
   "execution_count": null,
   "metadata": {
    "id": "EkAnBB7kTpCE"
   },
   "outputs": [],
   "source": [
    "silinmeyecek_sözlük={\n",
    "    \"değerlerlendirilmeyi\":\"değerlendirme\",\n",
    "    \"ıhtiyaclarini\":\"ihtiyaç\",\n",
    "    \"lütfennnn\":\"lütfen\",\n",
    "    \"oksuzlerım\":\"öksüz\",\n",
    "    \"sağol\":\"sağol\",\n",
    "    \"degelendırılmıs\":\"denge\",\n",
    "    \"kovid\":\"kovid\",\n",
    "    \"ugrasmiyosunuz\":\"uğraş\",\n",
    "    \"aktişvasyon\": \"aktivasyon\",\n",
    "    \"bbbeyazmasa\":\"beyaz masa\",\n",
    "    \"biletmatiğin\":\"biletmatik\",\n",
    "    \"nereydeseyse\":\"neredeyse\",\n",
    "    \"sikayetcı\": \"şikayet\",\n",
    "    \"asamasindaym\":\"aşama\",\n",
    "    \"bakiylereim\":\"bakiye\",\n",
    "    \"ıhtıycam\":\"ihtiyaç\",\n",
    "    \"redd\":\"red\",\n",
    "    \"calosmoyorum\":\"çalışma\",\n",
    "    \"covid\":\"covid\",\n",
    "    \"baslayacagiz\":\"başlama\",\n",
    "    \"farketmiyosunuz\":\"farketme\",\n",
    "    \"buzdolbım\":\"buzdolabı\",\n",
    "    \"etyardımıı\":\"et yardım\",\n",
    "    \"arttirilsinnn\":\"arttır\",\n",
    "    \"gonderecegım\":\"gönder\",\n",
    "    \"müzdarip\":\"müzdarip\",\n",
    "    \"dezenenfektasyon\":\"dezenfekte\",\n",
    "    \"ugrastirmayin\":\"uğraş\",\n",
    "    \"imamoglubu\":\"imamoğlu\",\n",
    "    \"ugrastiriyorsunuz\":\"uğraş\",\n",
    "    \"actirmistim\":\"aç\",\n",
    "    \"biletmatikten\":\"biletmatik\",\n",
    "    \"goturebılırım\":\"götür\",\n",
    "    \"gonderılmıstır\":\"gönder\",\n",
    "    \"baslattigi\":\"başla\",\n",
    "    \"carpmis\":\"çarp\",\n",
    "    \"neyazikki\":\"ne yazık\",\n",
    "    \"basladigi\":\"başla\",\n",
    "    \"sağlıyamıycam\":\"sağla\",\n",
    "    \"birsonuçyok\":\"sonuç yok\",\n",
    "    \"doğalgazmz\":\"doğalgaz\",\n",
    "    \"gondermıs\":\"gönder\",\n",
    "    \"sıkayetcı\":\"şikayet\",\n",
    "    \"cıkmıycak\":\"çık\",\n",
    "    \"cozulmemıs\":\"çöz\",\n",
    "    \"mufakatneme\":\"muvafakatname\",\n",
    "    \"müzdaripiz\":\"müzdarip\",\n",
    "    \"girmicegini\":\"girme\",\n",
    "    \"alçaklıklıktır\":\"alçak\",\n",
    "    \"faydanlamk\":\"fayda\",\n",
    "\n",
    "}"
   ]
  },
  {
   "cell_type": "code",
   "execution_count": null,
   "metadata": {
    "id": "dVjYGMhpTrAW"
   },
   "outputs": [],
   "source": [
    "def anlamsız_resleri_sil(text):\n",
    "  texts=text.split()\n",
    "  son_hal=\"\"\n",
    "  for i in texts:\n",
    "    if i in aynı_olan_resler:\n",
    "      if i in silinmeyecek_sözlük:\n",
    "        ## don't delete\n",
    "        son_hal+=\" \"+silinmeyecek_sözlük[i]\n",
    "      else:\n",
    "        ## delete\n",
    "        continue\n",
    "    else:\n",
    "      son_hal+=\" \"+i\n",
    "  return son_hal"
   ]
  },
  {
   "cell_type": "code",
   "execution_count": null,
   "metadata": {
    "id": "YqIKdJ7fTtAS"
   },
   "outputs": [],
   "source": [
    "comb_pos[\"splitword_new\"]=comb_pos[\"splitWord\"].map(anlamsız_resleri_sil)"
   ]
  },
  {
   "cell_type": "code",
   "execution_count": null,
   "metadata": {
    "id": "LRX8h_IyT_4f"
   },
   "outputs": [],
   "source": [
    "# unique words after deleting meaningless words from the dataset\n",
    "s1=comb_pos[\"splitword_new\"]\n",
    "s2=[word for sentences in s1 for word in sentences.split()]\n",
    "len(set(s2))"
   ]
  },
  {
   "cell_type": "markdown",
   "metadata": {
    "id": "1s2jqh-n44DA"
   },
   "source": [
    "## <font color='blue'> Latest Round of Deleting One/Two-Lettered Words \\& Stopwords </font>"
   ]
  },
  {
   "cell_type": "code",
   "execution_count": null,
   "metadata": {
    "id": "ZZGnG6rHUtnC"
   },
   "outputs": [],
   "source": [
    "def sil_1(text):\n",
    "    text_list=text.split()\n",
    "    for i in text_list:\n",
    "        if len(i)==1:\n",
    "            text_list.remove(i)   \n",
    "    return \" \".join(text_list)"
   ]
  },
  {
   "cell_type": "code",
   "execution_count": null,
   "metadata": {
    "id": "uuDDu5GrUyzY"
   },
   "outputs": [],
   "source": [
    "comb_pos[\"split\"]=comb_pos[\"splitword_new\"].map(sil_1)"
   ]
  },
  {
   "cell_type": "code",
   "execution_count": null,
   "metadata": {
    "id": "5upt1MfTVKud"
   },
   "outputs": [],
   "source": [
    "# Checking:\n",
    "\n",
    "s1=comb_pos[\"split\"]\n",
    "s2=[word for sentences in s1 for word in sentences.split()]\n",
    "len(set(s2))"
   ]
  },
  {
   "cell_type": "code",
   "execution_count": null,
   "metadata": {
    "id": "bVhYujUtVQN3"
   },
   "outputs": [],
   "source": [
    "# Stopwords:\n",
    "\n",
    "WPT = nltk.WordPunctTokenizer()\n",
    "stop_word_list = nltk.corpus.stopwords.words('turkish')\n",
    "stop_word_list.remove('ama')"
   ]
  },
  {
   "cell_type": "code",
   "execution_count": null,
   "metadata": {
    "id": "-fBfcnCvVVBt"
   },
   "outputs": [],
   "source": [
    "def stopwords_sil(text):\n",
    "    text_list=text.split()\n",
    "    silinmis_list = [text for text in text_list if text not in stop_word_list]\n",
    "    silinmis_list=\" \".join(silinmis_list)\n",
    "    ##print(silinmis_list)\n",
    "    return silinmis_list"
   ]
  },
  {
   "cell_type": "code",
   "execution_count": null,
   "metadata": {
    "id": "wrOf-ppXVX40"
   },
   "outputs": [],
   "source": [
    "comb_pos[\"split\"]=comb_pos[\"split\"].map(stopwords_sil)"
   ]
  },
  {
   "cell_type": "code",
   "execution_count": null,
   "metadata": {
    "id": "DJ8cXwIMVdGo"
   },
   "outputs": [],
   "source": [
    "# Checking:\n",
    "\n",
    "s1=df[\"split\"]\n",
    "s2=[word for sentences in s1 for word in sentences.split()]\n",
    "len(set(s2))"
   ]
  },
  {
   "cell_type": "code",
   "execution_count": null,
   "metadata": {
    "id": "MoQhAWrjVhse"
   },
   "outputs": [],
   "source": [
    "# Two lettered but important words for our dataset:\n",
    "\n",
    "silinmeyecekler=[\"ağ\", \"üz\", \"iz\",\"de\", \"eş\", \"of\", \"ön\",  \"ip\", \"üs\", \"eğ\", \"su\",  \"tv\", \"in\", \"uy\", \"en\", \"es\",  \"il\", \"öd\",\n",
    "                 \"ör\", \"as\", \"ev\", \"af\",  \"el\",  \"uç\", \"ov\",  \"ne\", \"az\", \"ay\", \"öt\",  \"al\", \"oy\", \"iş\", \"öv\",  \"öz\", \"öl\", \"ez\",\n",
    "                 \"an\", \"er\", \"eh\", \"ol\", \"it\", \"av\", \"ye\",\"aş\",\"uf\",\"tl\",\"he\", \"at\",\"et\",\"öp\",\"ad\",\"ey\",\"ak\",\"oh\",\"ün\",\"un\",\"ah\", \"aç\", \"ek\",\"iç\"]"
   ]
  },
  {
   "cell_type": "code",
   "execution_count": null,
   "metadata": {
    "id": "GiMKtEKdVqbk"
   },
   "outputs": [],
   "source": [
    "def bul_2_sil(text):\n",
    "  texts=text.split()\n",
    "  yenii=\"\"\n",
    "  for i in range(len(texts)):\n",
    "    if (len(texts[i])==2):\n",
    "      if (texts[i] in silinmeyecekler):\n",
    "        yenii+=\" \"+texts[i]\n",
    "      else:\n",
    "        continue\n",
    "    else:\n",
    "      yenii+=\" \"+texts[i]\n",
    "  return yenii"
   ]
  },
  {
   "cell_type": "code",
   "execution_count": null,
   "metadata": {
    "id": "VrpZNDR0Vt5-"
   },
   "outputs": [],
   "source": [
    "comb_pos[\"split\"]=comb_pos[\"split\"].map(bul_2_sil) # Deleting meaningless 2-letter words."
   ]
  },
  {
   "cell_type": "code",
   "execution_count": null,
   "metadata": {
    "id": "i8-3MjFQVy2n"
   },
   "outputs": [],
   "source": [
    "#checking\n",
    "s1=comb_pos[\"split\"]\n",
    "s2=[word for sentences in s1 for word in sentences.split()]\n",
    "len(set(s2))"
   ]
  },
  {
   "cell_type": "code",
   "execution_count": null,
   "metadata": {
    "id": "WWyKBna8V9gH"
   },
   "outputs": [],
   "source": [
    "comb_pos.to_csv(\"drive/MyDrive/Veri Setleri/sondata.csv\")"
   ]
  },
  {
   "cell_type": "markdown",
   "metadata": {},
   "source": [
    "# <font color='red'> Step 4: Training the Model </font>"
   ]
  },
  {
   "cell_type": "markdown",
   "metadata": {
    "id": "dMCY-LzDWeKK"
   },
   "source": [
    "We will train and evaluate using Keras Model with BERT features."
   ]
  },
  {
   "cell_type": "code",
   "execution_count": null,
   "metadata": {
    "id": "9G4w9j5WWkDc"
   },
   "outputs": [],
   "source": [
    "pip install transformers==3.0.2"
   ]
  },
  {
   "cell_type": "code",
   "execution_count": null,
   "metadata": {
    "id": "04RulWtxXmT6"
   },
   "outputs": [],
   "source": [
    "import json\n",
    "import random\n",
    "import warnings\n",
    "from datetime import datetime\n",
    "\n",
    "import tensorflow as tf\n",
    "\n",
    "import matplotlib\n",
    "import matplotlib.pyplot as plt\n",
    "import numpy as np\n",
    "import pandas as pd\n",
    "import torch\n",
    "from keras.callbacks import EarlyStopping\n",
    "from keras.callbacks import ModelCheckpoint\n",
    "from keras.layers import Dense, Dropout, LSTM\n",
    "from keras.models import Sequential\n",
    "from keras.optimizers import Adagrad , Adam , Nadam , SGD ,schedules \n",
    "from keras.optimizers.schedules import ExponentialDecay\n",
    "from sklearn.decomposition import PCA\n",
    "from sklearn.metrics import classification_report, f1_score\n",
    "from sklearn.utils import class_weight\n",
    "from tqdm import tqdm\n",
    "from transformers import AutoModel, AutoTokenizer, TFBertForSequenceClassification"
   ]
  },
  {
   "cell_type": "code",
   "execution_count": null,
   "metadata": {
    "id": "y6oDXZCJXvat"
   },
   "outputs": [],
   "source": [
    "device = 'cuda'"
   ]
  },
  {
   "cell_type": "code",
   "execution_count": null,
   "metadata": {
    "id": "SNmvJV_uX0Ie"
   },
   "outputs": [],
   "source": [
    "df_tag=pd.read_csv(\"drive/My Drive/NLP/etiketlisondata.csv\")"
   ]
  },
  {
   "cell_type": "code",
   "execution_count": null,
   "metadata": {
    "id": "gept3YaJX-J4"
   },
   "outputs": [],
   "source": [
    "df=df_tag.copy()"
   ]
  },
  {
   "cell_type": "code",
   "execution_count": null,
   "metadata": {
    "id": "OzCt1QIDYEXc"
   },
   "outputs": [],
   "source": [
    "# Deleting unnecessary columns for training (just clean_ner text and sentiment columns are necessary):\n",
    "\n",
    "df.drop(labels=[\"X_IBB_NEIGHBOURHOOD\",\"Unnamed: 0\",\"lang\",\"preProcessing\",\"No\"], axis=1,inplace=True)\n",
    "df.drop(labels=[\"totalwords\",\"aciliyet\"], axis=1,inplace=True)\n",
    "df.drop(labels=[\"ORG_TICKET_ID\",\"TICKET_DESC\",\"SR_AREA\",\"SR_SUB_AREA\",\"SR_SUBTYPE_CD_x\",\"clean_new\"], axis=1,inplace=True)"
   ]
  },
  {
   "cell_type": "code",
   "execution_count": null,
   "metadata": {
    "id": "1-RMwIr6YPqN"
   },
   "outputs": [],
   "source": [
    "df[\"duygu\"].value_counts() # We will see unbalanced sentiment classes."
   ]
  },
  {
   "cell_type": "code",
   "execution_count": null,
   "metadata": {
    "id": "TXTAb5NnZoen"
   },
   "outputs": [],
   "source": [
    "trainvaltest=df[df[\"duygu\"] != \"pas\"] # \"pas\" is empty values for sentiment tag column\n",
    "\n",
    "# Deleting empty values."
   ]
  },
  {
   "cell_type": "code",
   "execution_count": null,
   "metadata": {
    "id": "JAw5n1TZZ3y6"
   },
   "outputs": [],
   "source": [
    "trainvaltest[\"duygu\"].value_counts() # Still unbalanced sentiment classes!"
   ]
  },
  {
   "cell_type": "code",
   "execution_count": null,
   "metadata": {
    "id": "fCRrtfc7Z8tA"
   },
   "outputs": [],
   "source": [
    "notr=trainvaltest[trainvaltest[\"duygu\"]==\"notr\"] \n",
    "\n",
    "# Since neutral tickets are relatively more, we will do manual under sampling to balance classes."
   ]
  },
  {
   "cell_type": "code",
   "execution_count": null,
   "metadata": {
    "id": "zvy0zTpLaR3N"
   },
   "outputs": [],
   "source": [
    "def split_train_val(df,n): \n",
    "    \n",
    "    return df[:n].copy(), df[n:].copy()"
   ]
  },
  {
   "cell_type": "code",
   "execution_count": null,
   "metadata": {
    "id": "1uT22aJnaUMU"
   },
   "outputs": [],
   "source": [
    "deleted= 10000 # We deleted 10.000 neutral ticket from the training dataset.\n",
    "\n",
    "sample= len(notr)-deleted\n",
    "notrsample, delete= split_train_val(notr, sample)\n",
    "notrsample.shape, delete.shape"
   ]
  },
  {
   "cell_type": "code",
   "execution_count": null,
   "metadata": {
    "id": "smWxhakyadIX"
   },
   "outputs": [],
   "source": [
    "notrsample[\"duygu\"].value_counts()"
   ]
  },
  {
   "cell_type": "code",
   "execution_count": null,
   "metadata": {
    "id": "ERzVih8Naibj"
   },
   "outputs": [],
   "source": [
    "notrsuz=trainvaltest[trainvaltest[\"duygu\"]!=\"notr\"]"
   ]
  },
  {
   "cell_type": "code",
   "execution_count": null,
   "metadata": {
    "id": "bE8WTr3saq3I"
   },
   "outputs": [],
   "source": [
    "trainvaltest=pd.concat([notrsample,notrsuz],axis=0) # Merging positive + negative + neutral subsamples."
   ]
  },
  {
   "cell_type": "code",
   "execution_count": null,
   "metadata": {
    "id": "lDHlsQHjayzZ"
   },
   "outputs": [],
   "source": [
    "trainvaltest=trainvaltest.iloc[np.random.permutation(len(trainvaltest))] \n",
    "\n",
    "# split_train_val is splitting the rows from the end, \n",
    "# That's why we should randomly shuffle the data for fair separation."
   ]
  },
  {
   "cell_type": "code",
   "execution_count": null,
   "metadata": {
    "id": "hFQhuet3bAsX"
   },
   "outputs": [],
   "source": [
    "n_test = 1000  # test size \n",
    "n_trainval = len(trainvaltest)-n_test\n",
    "trainvalid, test = split_train_val(trainvaltest, n_trainval)\n",
    "\n",
    "\n",
    "trainvalid.shape, test.shape"
   ]
  },
  {
   "cell_type": "code",
   "execution_count": null,
   "metadata": {
    "id": "mkXwW3JEbFJo"
   },
   "outputs": [],
   "source": [
    "test[\"duygu\"].value_counts()"
   ]
  },
  {
   "cell_type": "code",
   "execution_count": null,
   "metadata": {
    "id": "FkC96j1DbHOH"
   },
   "outputs": [],
   "source": [
    "trainvalid"
   ]
  },
  {
   "cell_type": "code",
   "execution_count": null,
   "metadata": {
    "id": "0dSQZ22tbJsZ"
   },
   "outputs": [],
   "source": [
    "p=trainvalid.shape[0]*20/100 # Splitting the train and validation by %80-%20 ratio"
   ]
  },
  {
   "cell_type": "code",
   "execution_count": null,
   "metadata": {
    "id": "EK3i_5zJbTFH"
   },
   "outputs": [],
   "source": [
    "n_val = int(p) # Approx. %20 valid %80 train\n",
    "n_train = len(trainvalid)-n_val\n",
    "train, valid = split_train_val(trainvalid, n_train)\n",
    "\n",
    "\n",
    "train.shape, valid.shape "
   ]
  },
  {
   "cell_type": "code",
   "execution_count": null,
   "metadata": {
    "id": "f9l4RgUbbVvU"
   },
   "outputs": [],
   "source": [
    "valid[\"duygu\"].value_counts() # Still unbalanced, but we will balance them with loss function."
   ]
  },
  {
   "cell_type": "code",
   "execution_count": null,
   "metadata": {
    "id": "YcSVq5PZbXkZ"
   },
   "outputs": [],
   "source": [
    "train[\"duygu\"].value_counts() # Still unbalanced, but we will balance them with loss function."
   ]
  },
  {
   "cell_type": "code",
   "execution_count": null,
   "metadata": {
    "id": "ouUbDv8gboPZ"
   },
   "outputs": [],
   "source": [
    "train.to_csv(\"drive/My Drive/Colab Notebooks/nlp/trainhamID_3bölüm_karışık_10000notrsuzpozlu150\")\n",
    "valid.to_csv(\"drive/My Drive/Colab Notebooks/nlp/validhamID_3bölüm_karışık_10000notrsuzpozlu150\")\n",
    "test.to_csv(\"drive/My Drive/Colab Notebooks/nlp/testhamID_3bölüm_karışık_10000notrsuzpozlu150\")"
   ]
  },
  {
   "cell_type": "markdown",
   "metadata": {
    "id": "8WcKRsFfbyGK"
   },
   "source": [
    "BERTModel accepts JSON formatted input."
   ]
  },
  {
   "cell_type": "code",
   "execution_count": null,
   "metadata": {
    "id": "zeLifn62biFO"
   },
   "outputs": [],
   "source": [
    "import csv \n",
    "import json \n",
    "\n",
    "def csv_to_json(csvFilePath, jsonFilePath):\n",
    "    jsonArray = []\n",
    "      \n",
    "    # Read csv file\n",
    "    with open(csvFilePath, encoding='utf-8') as csvf: \n",
    "        # Load csv file data using csv library's dictionary reader.\n",
    "        csvReader = csv.DictReader(csvf) \n",
    "\n",
    "        # Convert each csv row into python dict.\n",
    "        for row in csvReader: \n",
    "            #add this python dict to json array.\n",
    "            jsonArray.append(row)\n",
    "  \n",
    "    # Convert python jsonArray to JSON String and write to file.\n",
    "    with open(jsonFilePath, 'w', encoding='utf-8') as jsonf: \n",
    "        jsonString = json.dumps(jsonArray, indent=4)\n",
    "        jsonf.write(jsonString)\n",
    "          \n",
    "csvFilePath = r'drive/My Drive/Colab Notebooks/nlp/trainhamID_3bölüm_karışık_10000notrsuzpozlu150'\n",
    "jsonFilePath = r'drive/My Drive/Colab Notebooks/nlp/trainhamID_3bölüm_karışık_10000notrsuzpozlu150.json'\n",
    "csv_to_json(csvFilePath, jsonFilePath)"
   ]
  },
  {
   "cell_type": "code",
   "execution_count": null,
   "metadata": {
    "id": "PnDxeeMMbxKw"
   },
   "outputs": [],
   "source": [
    "def csv_to_json(csvFilePath, jsonFilePath):\n",
    "    jsonArray = []\n",
    "      \n",
    "    # Read csv file.\n",
    "    with open(csvFilePath, encoding='utf-8') as csvf: \n",
    "        #load csv file data using csv library's dictionary reader\n",
    "        csvReader = csv.DictReader(csvf) \n",
    "\n",
    "        # Convert each csv row into python dict.\n",
    "        for row in csvReader: \n",
    "            #add this python dict to json array.\n",
    "            jsonArray.append(row)\n",
    "  \n",
    "    # Convert python jsonArray to JSON String and write to file.\n",
    "    with open(jsonFilePath, 'w', encoding='utf-8') as jsonf: \n",
    "        jsonString = json.dumps(jsonArray, indent=4)\n",
    "        jsonf.write(jsonString)\n",
    "          \n",
    "csvFilePath = r'drive/My Drive/Colab Notebooks/nlp/validhamID_3bölüm_karışık_10000notrsuzpozlu150'\n",
    "jsonFilePath = r'drive/My Drive/Colab Notebooks/nlp/validhamID_3bölüm_karışık_10000notrsuzpozlu150.json'\n",
    "csv_to_json(csvFilePath, jsonFilePath)"
   ]
  },
  {
   "cell_type": "code",
   "execution_count": null,
   "metadata": {
    "id": "6p2ZqKnOb9sl"
   },
   "outputs": [],
   "source": [
    "def csv_to_json(csvFilePath, jsonFilePath):\n",
    "    jsonArray = []\n",
    "      \n",
    "    # Read csv file.\n",
    "    with open(csvFilePath, encoding='utf-8') as csvf: \n",
    "        #load csv file data using csv library's dictionary reader\n",
    "        csvReader = csv.DictReader(csvf) \n",
    "\n",
    "        # Convert each csv row into python dict.\n",
    "        for row in csvReader: \n",
    "            # Add this python dict to json array.\n",
    "            jsonArray.append(row)\n",
    "  \n",
    "    # Convert python jsonArray to JSON String and write to file.\n",
    "    with open(jsonFilePath, 'w', encoding='utf-8') as jsonf: \n",
    "        jsonString = json.dumps(jsonArray, indent=4)\n",
    "        jsonf.write(jsonString)\n",
    "          \n",
    "csvFilePath = r'drive/My Drive/Colab Notebooks/nlp/testhamID_3bölüm_karışık_10000notrsuzpozlu150'\n",
    "jsonFilePath = r'drive/My Drive/Colab Notebooks/nlp/testhamID_3bölüm_karışık_10000notrsuzpozlu150.json'\n",
    "csv_to_json(csvFilePath, jsonFilePath)"
   ]
  },
  {
   "cell_type": "code",
   "execution_count": null,
   "metadata": {
    "id": "Cg53L3_Pb_uG"
   },
   "outputs": [],
   "source": [
    "train_path = 'drive/My Drive/NLP/Duygu Haritasi Grubu/Tüm notebooklar/DATA(CSV+JSON)/diğerdata/trainhamID_3bölüm_karışık_10000notrsuzpozlu150.json'\n",
    "val_path = 'drive/My Drive/NLP/Duygu Haritasi Grubu/Tüm notebooklar/DATA(CSV+JSON)/diğerdata/validhamID_3bölüm_karışık_10000notrsuzpozlu150.json'\n",
    "test_path= 'drive/My Drive/NLP/Duygu Haritasi Grubu/Tüm notebooklar/DATA(CSV+JSON)/diğerdata/testhamID_3bölüm_karışık_10000notrsuzpozlu150.json'"
   ]
  },
  {
   "cell_type": "code",
   "execution_count": null,
   "metadata": {
    "id": "bjolNgW2cCgk"
   },
   "outputs": [],
   "source": [
    "# Downloading pretrained BERT Tokenizer and Model:\n",
    "\n",
    "tokenizer = AutoTokenizer.from_pretrained(\"dbmdz/bert-base-turkish-128k-uncased\")\n",
    "bert = AutoModel.from_pretrained(\"dbmdz/bert-base-turkish-128k-uncased\").to(device)"
   ]
  },
  {
   "cell_type": "code",
   "execution_count": null,
   "metadata": {
    "id": "zl-7ssWNcJmy"
   },
   "outputs": [],
   "source": [
    "def feature_extraction(text):\n",
    "    x = tokenizer.encode(text) # Tokenizing our text.\n",
    "    with torch.no_grad():\n",
    "        x, _ = bert(torch.stack([torch.tensor(x)]).to(device)) # Turning each text into same-lenght word vectors.\n",
    "        return list(x[0][0].cpu().numpy())\n"
   ]
  },
  {
   "cell_type": "code",
   "execution_count": null,
   "metadata": {
    "id": "cMuXBd5zcewM"
   },
   "outputs": [],
   "source": [
    "with open(test_path, 'r') as f:\n",
    "    test = json.load(f)\n",
    "with open(train_path, 'r') as f:\n",
    "    train = json.load(f)\n",
    "with open(val_path, 'r') as f:\n",
    "    val = json.load(f)"
   ]
  },
  {
   "cell_type": "code",
   "execution_count": null,
   "metadata": {
    "id": "seu9stwQcg77"
   },
   "outputs": [],
   "source": [
    "mapping = {'negatif':0, \"notr\":1, 'pozitif':2} # Mapping the string labels into dummy variables.\n",
    "def data_prep(dataset): # Preparing dataset for the model.\n",
    "    X = []\n",
    "    y = []\n",
    "    for element in tqdm(dataset):\n",
    "        X.append(feature_extraction(element['clean_ner']))\n",
    "        y_val = np.zeros(3) # 3 for three classes: negative, positive, neutral\n",
    "        y_val[mapping[element['duygu']]] = 1\n",
    "        y.append(y_val)\n",
    "    return np.array(X), np.array(y)\n",
    "\n",
    "X_train, y_train = data_prep(train)\n",
    "X_val, y_val = data_prep(val)\n",
    "X_test, y_test = data_prep(test)"
   ]
  },
  {
   "cell_type": "code",
   "execution_count": null,
   "metadata": {
    "id": "ZUm6YqTIcwMD"
   },
   "outputs": [],
   "source": [
    "class_counts = [0, 0, 0] \n",
    "for el in y_train:\n",
    "    class_counts[np.argmax(el)]+=1\n",
    "class_weights = {idx:sum(class_counts)/el for idx, el in enumerate(class_counts)} \n",
    "\n",
    "# Class weights are arranged according to each class quantity to balance weights in loss func.\n",
    "\n",
    "model = Sequential()\n",
    "model.add(Dense(512, activation='tanh', input_shape=(768,))) # (768,) is numpy size after BERTModel\n",
    "model.add(Dropout(0.5)) # Prevent over fitting\n",
    "model.add(Dense(128, activation='tanh'))\n",
    "model.add(Dropout(0.5))\n",
    "model.add(Dense(32, activation='tanh'))\n",
    "model.add(Dropout(0.5))\n",
    "model.add(Dense(3, activation='softmax')) \n",
    "\n",
    "# Softmax is suitable last layer activation function for multi-class categorization but sigmoid is suitable for two-classes\n",
    "\n",
    "model.summary()\n"
   ]
  },
  {
   "cell_type": "code",
   "execution_count": null,
   "metadata": {
    "id": "69s6yME1c4ur"
   },
   "outputs": [],
   "source": [
    "model.compile(loss='categorical_crossentropy',\n",
    "              optimizer=Adagrad(learning_rate=5e-5),\n",
    "              metrics=['accuracy'])\n",
    "\n",
    "# categorical_cressentropy is suitable for multi-class categorization"
   ]
  },
  {
   "cell_type": "code",
   "execution_count": null,
   "metadata": {
    "id": "zemRiWO6dxjD"
   },
   "outputs": [],
   "source": [
    "# Training:\n",
    "\n",
    "history = model.fit(np.array(X_train), np.array(y_train),\n",
    "                    batch_size=64,\n",
    "                    epochs=600,\n",
    "                    verbose=1,\n",
    "                    validation_data=(X_val, y_val),\n",
    "                    class_weight=class_weights)"
   ]
  },
  {
   "cell_type": "markdown",
   "metadata": {
    "id": "krBuwbkBd_BF"
   },
   "source": [
    "Print the model performance metrics : Precision, Recall, F1-Score, Accuracy. Recall is more important in our case. Because the cost of missing real negatives are higher! "
   ]
  },
  {
   "cell_type": "code",
   "execution_count": null,
   "metadata": {
    "id": "TjfhRneVd1YS"
   },
   "outputs": [],
   "source": [
    "# Evaluating on mini test dataset:\n",
    "\n",
    "y_true, y_pred = np.argmax(y_test, 1), np.argmax(model.predict(X_test), 1)\n",
    "print(classification_report(y_true, y_pred, digits=2))"
   ]
  },
  {
   "cell_type": "markdown",
   "metadata": {
    "id": "LiLAu217iEaT"
   },
   "source": [
    "![Screen Shot 2021-03-26 at 01.36.09.png](data:image/png;base64,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)"
   ]
  },
  {
   "cell_type": "code",
   "execution_count": null,
   "metadata": {
    "id": "q_-sjYEyedpc"
   },
   "outputs": [],
   "source": [
    "from sklearn.metrics import classification_report, confusion_matrix, plot_confusion_matrix, ConfusionMatrixDisplay"
   ]
  },
  {
   "cell_type": "code",
   "execution_count": null,
   "metadata": {
    "id": "QvXryrr4egjp"
   },
   "outputs": [],
   "source": [
    "cm = confusion_matrix(y_true, y_pred)\n",
    "disp = ConfusionMatrixDisplay(confusion_matrix=cm, display_labels=['Negatif',\"Nötr\",'Pozitif'])\n",
    "disp.plot(cmap='Blues') "
   ]
  },
  {
   "cell_type": "markdown",
   "metadata": {
    "id": "tJZRsUzhiMwU"
   },
   "source": [
    "![download.png](data:image/png;base64,iVBORw0KGgoAAAANSUhEUgAAAVYAAAEGCAYAAAA+Ib10AAAABHNCSVQICAgIfAhkiAAAAAlwSFlzAAALEgAACxIB0t1+/AAAADh0RVh0U29mdHdhcmUAbWF0cGxvdGxpYiB2ZXJzaW9uMy4yLjIsIGh0dHA6Ly9tYXRwbG90bGliLm9yZy+WH4yJAAAgAElEQVR4nO3dd5wV1f3/8dd7d+nLLixdBFEBERVBUQQVCYoFEyyJvfCzYYstVkyMmMRExagxsQQVBRtiC9gL4hdQiqCIFAsKgigdll2a7PL5/TEDXpYtd9m53B39PH3MY2fOzJw5c939cO6Zc87IzHDOORedjHQXwDnnfm48sDrnXMQ8sDrnXMQ8sDrnXMQ8sDrnXMSy0l2A6iCrbq7VbNAs3cWotvZokp3uIlR7NbO8jlKeBd/OZ/ny5apKHpk5u5kVrU/qWFu/7C0zO7Yq16sKD6xAzQbNaHvhg+kuRrX1/GU90l2Eaq9lw9rpLkK11rPHwVXOw4rWU2uvU5M6dsP0BxpX+YJV4IHVORcTAsXjm4EHVudcPAjIyEx3KZLigdU5Fx+qUjPtTuOB1TkXE94U4Jxz0fMaq3PORUjEpsYaj1I65xwKaqzJLOXlItWWNEXSp5JmSbotTH9C0jxJ08Olc5guSfdLmitphqQDKiqp11idc/ERTa+AjUBvMyuUVAOYIOmNcN/1ZvZCieOPA9qFSzfgofBnmTywOudiIpqHVxZMQl0YbtYIl/Impj4BGB6eN0lSA0ktzOyHsk7wpgDnXDyISJoCACRlSpoOLAXeMbPJ4a7bw6/790qqFaa1BBYmnP5dmFYmD6zOufhQRnILNJY0NWEZkJiNmRWbWWdgV+BgSfsCA4EOwEFAHnDjjhbTmwKcczFRqaaA5WbWtaKDzGy1pLHAsWZ2d5i8UdLjwHXh9iKgVcJpu4ZpZfIaq3MuHgRkZia3lJeN1ERSg3C9DtAH+FxSizBNwInAzPCU0cC5Ye+AQ4D88tpXwWuszrk4iWaAQAtgmKRMgsrlSDN7VdJ7kpoQhPDpwCXh8a8DfYG5wDrgvIou4IHVORcTkfUKmAF0KSW9dxnHG3B5Za7hgdU5Fx8+pNU55yIWkyGtHlidc/GQZB/V6sADq3MuPnyia+eci5LPx+qcc9HzpgDnnItQjOZj9cDqnIsJbwpwzrno+cMr55yLmLexOudchORNAc45Fz2vsTrnXLTkgdU556ITvJnFA6tzzkVHQhkeWH8RmubUYtCJ+5BXryYYvPzxIp6bsnC74w7YrSF/OKY9WRli9fpNXDJsWpWuWyNTDDpxHzq0yCF//Sb++MJn/JC/gYP3yOPy3m2pkZnBpuLN/Pvdr5g6f1WVrpVuawrX85f7XmDut4uRxKBrTqHNrk244R9P8/2SlezSLI/BA88ip37ddBc1La7829O888EsGjesz/hnBgKwKn8tF/3pCRb8sJLWLfJ49PbzaJAT/88nLjXWlD1ik2SS/pmwfZ2kQSm4zs0ltj9MWB8saZakwVFfd4vizca/3v6K0x+axPlDP+KUg3Zl98b1tjkmu1YWN/Tdi2tHTOf0hycx8PkZSeffIrc2D5174Hbp/bq0pGB9Eb/9z4c8O2kBvz+qLQCr123i2hHTOfO/k7ht1CwGnbhP1W6wGrjr4dH06Nqe/z1yPSMfuJrdWzVl6MixdOvcllceu5FundsydOT76S5m2px+fDdG3HvpNmn3D3+Xww9qz5QXbuHwg9pz//B30lS6aElKakm3VPZd2AicLKlxCq8BsE1gNbMeCZsDgE5mdn2qLr6i8Ee+WFwAwLofi5m3fB1Ncmptc8wx+zXn/c+XsWTNRgBWrdu0dd+x+zXn8QsO4qkB3bjp+A4k+03niL2a8NqM4LU7781eykG75wHw5eIClhf+CMA3y9ZSq0YmNTLT/4u2owrWrufjmd9w0jEHA1CjRhY52XV4f+IsfnNU8A/Ob446kLETZ5aXzc9ajy5taViiNvrG+M84rW/wmZ3W92BeH/dZOooWOQ+sUAQMAa4puSN8mdeLkj4Kl0MT0t8Ja5mPSvp2S2CW9D9J08J9A8K0O4A6kqZLejpMKwx/jgaygWmSTkvhfW7VIrc2ezWvz6zv8rdJb51Xl/q1s3jo3AMZduHB9O3UAoA2jevSZ59mXPj4VM4eMpnNm41j92uR1LWa1K/FkvwNABSbUbihiNw6NbY5pvfeTfnihzVsKrYI7i49Fi1eRcPcbP58z0hOu/w+brvvedZv+JEVqwtpkpcDQOOG9VmxujDNJa1elq0soHnjXACaNcph2cqCNJcoAqrEkmapbmN9AJgh6a4S6f8C7jWzCZJaA28BewO3Au+Z2T8kHQtckHDO+Wa2Mnyr4keSXjSzmyT9Pnw/+DbMrJ+kwtL2pUKdGpnccUon7nnrC9b+WLzNvswM0aFFDpc/OY1aWZk8dv5BzPwun4N2z6NDixyGXRjULGplZWytzd51aid2aVCHrEzRPLc2Tw3oBsCIyQt49dNyXxAJwB5N6vH7I9tyxdOfRHynO1dxcTGfz13ETZeewH4dWnPnw6MYOnLsNsdUl1pKdRV8PukuRdWJ+Px/TmlgNbM1koYDVwLrE3YdBXRM+JByJGUDhwEnhee+KSnxqcuVkk4K11sB7YAVO1q2sNY7AKBGbtMdzQYIAuedp3birZmLef/zZdvtX1qwgfyvN7Fh02Y2bNrM9AWraNcsGyFe+/R7Hnzv6+3OuWFk0A7bIrc2fz5hHy4dvu3DrmUFG2mWW5ulBRvJlMiunUX++iAoN61fi7tO7cSgUbNYtGr9dnnHSbPGDWjaOJf9OrQGoM9hnRg6ciyNGmSzbOUamuTlsGzlGvJy61WQ0y9Lk7z6LF6eT/PGuSxenk/jhvXTXaRIZGTEY+TVzijlfQQ1z8Tf/AzgEDPrHC4tzazM73KSehEE4+5mtj/wCVC7KoUysyFm1tXMumbVza1KVtzym47MW7aWZyYtKHX/uC+W0bl1AzIlamVlsE/LXOYtX8tH81bSe+9mNKwbfIXPqZ1F89zkbmvcF8s4PmxS6N2xKVPnBf8GZdfK4t4zOvOfMXOZsTC/vCxioXFefZo3yWX+d0sBmDz9K/Zo3ZQjDunIK+8G/9i88u40enWP/0O6KB17+L489/oUAJ57fQrHHb5fmksUjSjaWCXVljRF0qdh0+JtYfrukiZLmivpOUk1w/Ra4fbccH+bisqZ8u5W4df3kQTBdWiY/DZwBTAYQFJnM5sOfACcCtwp6WigYXh8LrDKzNZJ6gAcknCJTZJqmNkm0mD/Vrn03b8FXy0p2Pp1/cH35m4NkC9NW8T85euYOHcFT1/SDTMY9ckivlm2FoCHx37Nv88+AAmKio3Bb3zO4rDttDyjP/me207ahxd/34M16zfxxxeDhzenHtyKXfPqcmHPPbiw5x4AXPHUx9s8MIubGy89kZvvepZNm4pp2aIRf7nmFDabccPfn+blt6awS9OG3HXz2ekuZtoMuOUJPvh4LitXF9LpN7dww0V9ufLcPlz4x8d5evQkWjVvyKO3n5fuYlZddO2nG4HeZlYoqQYwQdIbwB8ImihHSHqYIGY9FP5cZWZtJZ0O3AmU+9xGwSuzoxe2b2aH682AecBdZjYofCD1AEG7ahYwzswukdQUeBZoBkwEfg20CbP8X7j+BdAAGGRm70u6E+gHfGxmZ5W47tb18tTdpb21vfDBqG79Z+f5y3pUfNAvXMuGVfoC9bPXs8fBfDxtapXCYlbjPazBr/+e1LErhp0xzcy6VnScpLrABOBS4DWguZkVSepOEGOOkfRWuD5RUhawGGhi5QTPlNVYEwOamS0B6iZsL6f0iJ8PHJNwYweZ2cZw33FlXOdG4MYyrlthUHXOxUMlH141ljQ1YXuImQ3ZmpeUCUwD2hJU8r4GVptZUXjId0DLcL0lsBAgjE35QCNgeVkXr24jr1oDIyVlAD8CF6W5PM65aqQSQ1qXl1djNbNioLOkBsDLQIcIirdVtQqsZvYV0CXd5XDOVUOKfkirma2WNBboDjSQlBXWWncFFoWHLSLoifRd2BSQSwU9kuLRd8E554isV0CTsKZK2C++DzAHGAv8LjysPzAqXB8dbhPuf6+89lWoZjVW55wrT0Q11hbAsLCdNQMYaWavSpoNjJD0N4IunY+Fxz8GPClpLrASOL2iC3hgdc7FQlQjr8xsBqU0OZrZN8DBpaRvAE6pzDU8sDrn4iMeI1o9sDrnYkLxGdLqgdU5Fxs+CYtzzkUtHnHVA6tzLj68xuqccxGK07y7Hlidc7HhgdU55yLmr792zrmIeY3VOeeilIJJWFLFA6tzLhYEsXkpogdW51xMeK8A55yLXIY/vHLOuQjJmwKccy5SwmuszjkXOa+xOudcxPzhlXPORcnbWJ1zLlpCPtG1c85FzWuszjkXsbi0scajXu2cc2EbazJLhVlJrSSNlTRb0ixJV4XpgyQtkjQ9XPomnDNQ0lxJX0g6prz8vcbqnIuFYK6AyGqsRcC1ZvaxpPrANEnvhPvuNbO7t7m21BE4HdgH2AV4V1J7MysuLXOvsTrnYiOqGquZ/WBmH4frBcAcoGU5p5wAjDCzjWY2D5gLHFzWwR5YnXOxkZGhpBagsaSpCcuAsvKU1AboAkwOk34vaYakoZIahmktgYUJp31HOYHYA6tzLh7003uvKlqA5WbWNWEZUmqWUjbwInC1ma0BHgL2BDoDPwD/3JGiehsr0DS3Nlf0bZfuYlRbnY+7Id1FqPYWjLs33UWo1jabVTmPqOdjlVSDIKg+bWYvAZjZkoT9jwCvhpuLgFYJp+8appXKa6zOuZhIrraazAMuBQc9Bswxs3sS0lskHHYSMDNcHw2cLqmWpN2BdsCUsvL3GqtzLjYirLEeCpwDfCZpeph2M3CGpM6AAfOBiwHMbJakkcBsgh4Fl5fVIwA8sDrn4kLRTRtoZhOCHLfzejnn3A7cnkz+Hlidc7EQcT/WlPLA6pyLDQ+szjkXsZjEVQ+szrn48Bqrc85FySe6ds65aAUTXccjsnpgdc7FRkZMqqweWJ1zsRGTuOqB1TkXD5I/vHLOucjFpIm17MAq6d8E42VLZWZXpqREzjlXhp/Dw6upO60UzjlXARH0DIiDMgOrmQ1L3JZU18zWpb5IzjlXuphUWCuej1VSd0mzgc/D7f0lPZjykjnnXKIk52KtDg+4kpno+j7gGGAFgJl9CvRMZaGcc640Ub1MMNWS6hVgZgtL/CtQ5gSvzjmXCuLnNUBgoaQegIXviLmK4FWxzjm3U8WlV0AyTQGXAJcTvOr1e4K3F16eykI551xJyTYDVIdKbYU1VjNbDpy1E8rinHPliktTQDK9AvaQ9IqkZZKWSholaY+dUTjnnEukJJd0S6Yp4BlgJNAC2AV4Hng2lYVyzrnS/Jy6W9U1syfNrChcngJqp7pgzjmXKOgVkNxSYV5SK0ljJc2WNEvSVWF6nqR3JH0V/mwYpkvS/ZLmSpoh6YDy8i8zsIYXyAPekHSTpDaSdpN0A+W8ItY551JCwUTXySxJKAKuNbOOwCHA5ZI6AjcBY8ysHTAm3AY4DmgXLgOAh8rLvLyHV9MIJmHZUsqLE/YZMDCZ0jvnXFSi+ppvZj8AP4TrBZLmEPR8OgHoFR42DHgfuDFMH25mBkyS1EBSizCf7ZQ3V8DukdyBc85FYEtTQJIaS0qcSGqImQ0pNV+pDdAFmAw0SwiWi4Fm4XpLYGHCad+FaZULrCUuvC/QkYS2VTMbnsy5zjkXlUrUWJebWdck8ssGXgSuNrM1ifmbmUkqc+rU8lQYWCXdSlA17kjQtnocMAHwwOqc26mifN4fjiR9EXjazF4Kk5ds+YovqQWwNExfBLRKOH3XMK1UyfQK+B1wJLDYzM4D9gdyK3kPzjlXJRJkZiippeK8JOAxYI6Z3ZOwazTQP1zvD4xKSD837B1wCJBfVvsqJNcUsN7MNksqkpRDEMFbVXTSL8nTw99g1mffUL9+XQb++bwyj/t2/g/cO/hp+l/wG7ocsFeVrrl27XqeePQVVq7IJ69RLudd2I+69Wrz0ZTZjHl7MmZQq3ZNTjujDy13bVqla1VVrZpZvDbkamrVyCIzK5PRYz7hjiHbdiy5/ZqTObxrewDq1KpJk7xs2vS+oUrXbZBTl6F/P5/WLfJY8MNKzhv4GPkF6znl2K5cdW4fJFG4bgPX3vEcM78qs/JRrX2/ZBXX/P0Zlq0sQIIzf9OdC045AoDHXxzH8Jc/ICND9O7ekT9e2i/Npa26CPuoHgqcA3wmaXqYdjNwBzBS0gXAt8Cp4b7Xgb7AXGAdUPYfOskF1qmSGgCPEPQUKAQmVvImKiVs17jHzK4Nt68Dss1sULj9oZn12PIzTDsR+NLMZqeybKXp1n1fevY6gKeeKLsX2ubNmxn98jg67N2mUnl/9eUCJk+cydn9+26T/u5bk2nfYTf6HNONd96azDtvT+aEk46gUaNcrrzmDOrWq83smd8w4um3ufbGs3fktiKz8cciTrj0ftau/5GszAzeePQPvPvhbKbOnL/1mD/e+9LW9YtOPYJOe+2adP6HHtCOM3/Tjctve2qb9Gv692HcR19w37B3uLp/H67pfzSD/jOKb79fwfEX30d+wXqO6tGRe28+gz7n3V3l+0yHzMwM/nRZP/bbqxWF6zZw/IX3cPhBe7F8ZQFvT5jJm0Ovp1bNLJavKkh3USMRVVw1swmU3bJwZCnHG5WYI6XCpgAzu8zMVpvZw0AfoH/YJJBKG4GTJTUuo0w9En+GTiRoB96OpJS+NLFtu1bUrVf+mIn/G/sx+3dpR3b9utukj3l7Cnff8SR3/O1xXn9lQtLX/OzTuRx8yD4AHHzIPnw2/SsA9tiz5daytNl9F1ZXkz+otet/BKBGViY1sjIJfk9L97tjDuTFt6Zt3b7i7CMZM+x6JjwzkJsG9C3zvJKOO6ITz746GYBnX51M316dAJgyYx75BesB+OizeezStEGl76e6aNY4l/32Cr5AZtetTdvdmrF4WT5PjvqAy846klo1g1/9xg3rp7OYkRAiQ8kt6VbeAIEDSi5AHpBV0aiDCBQBQ4BrSilXG0nvhaMfxkhqHU5r2A8YLGm6pD0lvS/pvrDLxVUpLm+5Vq8uYManX3FYzy7bpM+ZPY9ly1Zx7Y1nc8PN/4+FC5Yw96uFZeSyrYKCdeTmZgOQk1OPgoLt35oz8cMZ7L1P9eg1l5Ehxj19E1++fQfvT/6cabO+LfW4Vs0b0nqXRoyb+gUAv+rWgT1aN+XI/oM5/Kw76NyhNT267JnUNZvm1WfJijUALFmxhqZ52weXc07owbsf7vQvOSmx8IeVzPrqO7p03I15C5cxZcY39Lv4Xk654j98OmdBuotXdT+T2a3+Wc4+A3pHXJaSHgBmSLqrRPq/gWFmNkzS+cD9ZnaipNHAq2b2Amxti6lZVpcLSQMIRlCQ17xlqu4BgJeef49+Jx6x3YiQL+bM5/PZ87nr78HrxTZu3MSypato264V/7zzKYqKiti4cRPr1m7gztufAKDfSUewd8dtg2Vp7U5ffrGASR9+xtXXnpmSe6qszZuNnmfdQU52HZ4afBF779mCOV9v3/Z/8tEHMnrMdDZvDmq0vzpkb3p368C4p4MBMPXq1GKPVk358JOveefx66hVM4t6dWrRMKfu1mMG/XsU703afsrgkpXkww5sx9n9unPcRfdGfLc739p1G7n4lse59YqTqF+vNkXFm8lfs45RD1/Np3MWcNmtw5jw3J+qxTj6qohL+csbIPCrnVmQUq6/RtJw4EpgfcKu7sDJ4fqTQMnAm+i5cvIfQlArps3enXaor1qyFny7hGGPvQJA4dr1zJ45j8yMDMygz7HdOPTwztuds6VdtKw21vr165KfX0hubjb5+YXUT2hiWPTdUp596k0u/f3vqJddJ4V3VnlrCtczftqXHNm9Y5mB9fq7Rm7dluDeJ97miZc/2O7YLe2iZbWxLl1ZQLNGOSxZsYZmjXJYltAssk/bXbj/T2dyylUPsSp/bVS3lxabioq5+JbHOanPgRx3RNDc0aJJA47t2QlJdO64G8oQK/PX0qhBdppLu+MEZMYksCbT3Sqd7gMuAOrt4PnV4i9m0N8GMOj2ixl0+8V07tKeU844ik6d29GhYxsmfTiTjRuC9sfVqwsoWJNckfft1JYpk2YBMGXSLPbbvy0AK1eu4bEhozjn/x1P02Z5qbmhSmrUIJucMMDXrlWDXx3cga/mL9nuuHa7NaNB/bpMmTFva9p7E+dwVr/u1KtTE4AWTXJp3DC54PDmuM8449fdADjj19144/9mALBrs4YMv+siLrl1OF8vWFpeFtWemXH9nSNou1szLjqt19b0ow/fl4mfzAXgm4VL2bSpmLzcHf0zqj6imoQl1VL6UKeqzGylpJEEwXVomPwhcDpBbfUsYHyYXgCkpYX+icdeYe6XCyksXM8tAx+i768Ppbh4MwCH9dy+NrrF3h13Z8nildwz+GkAatWqwTnnHU/9JP4d6XNMNx5/dDSTPphBw7wczrso6Erz5msfsrZwPc+PeAeAjIwMrh94blVvsUqaN87hwUHnkJmRQUaGePndj3lrwkwGXnw80+cs4I1xnwFBbfWld6Ztc+7YyZ/TfvfmvD30OgAK123k4j8PY/mqwgqve++wd3j8H+dzdr/uLFy8kvMGBr9C1194HHm59bj7xtMAKCraTO/+5X3xqb4++mweL701lQ57tODY8wcDcMNFx3Na325cf8cIjup/JzWzMrnn5jNj8zW6PNUhaCZD5T2dTRdJhWaWHa43A+YBd5nZIEm7AY8DjYFlwHlmtkDSoQRdwjYSDGp4DLjOzKaWepEEbfbuZH98/JUU3U38XXnp4HQXodpbMC7+7bSp1OeIQ5j+8bQqhcXm7fa1s+55Malj7+nXYVoyQ1pTJZkhrSKoGe5hZn+R1BpobmZTUlWoLUE1XF8C1E3Y/pZSHpyZ2Qds292qV6rK55xLj7jUWJNpY32Q4IHRGeF2AcETe+ec26l+Dt2ttuhmZgdI+gTAzFZJqpnicjnn3DYEZFWHqJmEZALrJkmZBH1XkdQE2JzSUjnnXCliEleTCqz3Ay8DTSXdTvBg6E8pLZVzzpWgajJcNRkVBlYze1rSNIKJCQScaGbbD2txzrkUi0lcTapXQGuCabJeSUwzs5/B4GPnXJzEpVdAMk0Br/HTSwVrA7sDXwD7pLBczjm3DUFSk1hXB8k0BeyXuB3ObHVZykrknHOlqSbDVZNR6SGtZvaxpG6pKIxzzpVHkb71KnWSaWP9Q8JmBnAA8H3KSuScc6Wo5Ouv0yqZGmvixCZFBG2uyQ3Ydc65CP0sAms4MKC+mV23k8rjnHNlissMXeW9miXLzIoJ3mbonHNpFbz+Orml4rw0VNJSSTMT0gZJWhS+3mm6pL4J+wZKmivpC0nHVJR/eTXWKQTtqdPD1548T8LE0Wb2UlknOudcKkQ48uoJ4D/A8BLp95rZNq/sldSRYA7ofYBdgHcltQ8rnqVKpo21NrCCYKq+Lf1ZDfDA6pzbaaJ8eGVm4yS1SfLwE4ARZrYRmCdpLnAwMLGsE8oLrE3DHgEz+Smgbi1XkgVyzrnIVKLC2jh8Q/MWQ8L33FXk95LOBaYC15rZKqAlMCnhmO/CtDKVF1gzgWwoteOYB1bn3E4mMpLvx7p8B94g8BDwV4L49leCN1WfX8k8gPID6w9m9pcdydQ556ImUjsJS/i2kuBa0iPAq+HmIqBVwqG7hmllKu/5WTz6NTjnfhkEWRlKatmh7KUWCZsnETSDAowGTpdUS9LuQDuCh/tlKq/GeuQOlc4551IgyhqrpGcJ3ovXWNJ3wK1AL0mdCZoC5gMXA5jZrPBt0bMJBkldXl6PACgnsJrZyihuwDnnohJVdyszO6OU5MfKOf524PZk86/0JCzOOZcuMRl45YHVORcPIrnXSlcHHlidc/GgSEdepZQHVudcLAQjrzywOudcpOIRVj2wOudiJCYVVg+szrm4UGzmY/XA6pyLBe8V4JxzKeAPr2KkUd2anNN1t3QXo9o6Y9L96S5CtTfmi6XpLkK1VrixqOqZKD6vZvHA6pyLBW8KcM65FPAaq3PORSweYdUDq3MuJgRkeo3VOeeiFZO46oHVORcXQjFpDPDA6pyLDa+xOudchILuVvGIrB5YnXPxIK+xOudc5HxIq3PORSiY6DrdpUhOXEaIOedc2C+g4v8qzEcaKmmppJkJaXmS3pH0VfizYZguSfdLmitphqQDKsrfA6tzLjak5JYkPAEcWyLtJmCMmbUDxoTbAMcB7cJlAPBQRZl7YHXOxUZUNVYzGwesLJF8AjAsXB8GnJiQPtwCk4AGklqUl7+3sTrnYqGSbayNJU1N2B5iZkMqOKeZmf0Qri8GmoXrLYGFCcd9F6b9QBk8sDrn4kGqTK+A5WbWdUcvZWYmyXb0fG8KcM7FhpJcdtCSLV/xw59bZi9fBLRKOG7XMK1MHlidc7EQNAUoqWUHjQb6h+v9gVEJ6eeGvQMOAfITmgxK5U0BzrnYiKobq6RngV4EbbHfAbcCdwAjJV0AfAucGh7+OtAXmAusA86rKH8PrM65+IgosprZGWXsOrKUYw24vDL5e2B1zsWGD2l1zrmIxSOsemB1zsVJTCKrB1bnXCwEXaniEVk9sDrn4sHnY3XOuejFJK56YHXOxYVQTKqsHlidc7ERk7jqgdU5Fw9VnAdgp/LA6pyLj5hEVg+szrnY8O5WrtI2bNzE8QPuY+OmIoqLiul3ZBcGXnx8uotVrfz3ufd5atREzIyzT+jOJaf/Kt1FqrKHH32Fj6d/RU5OPe7++8Xb7Z/w4WeMfm0ihlG7di0u7H8cu7VuVkpOydu0qYgHhoxm3vwfyM6uw1WXnUzTJg2YMfMbnh35HkXFxWRlZnLW6Ueyb8fdq3StKMWljTUt0wZKKpY0XdJMSc9LqlvJ87tKuj9c7yWpR8K+SySdG653CK/ziaQ9o72L6NWqmcWoh65kwjMDGffMQMZMnM1Hn81Ld7GqjTlff89Toyby1tBref/JG3lnwiy+WV06ehcAAA2ySURBVLgs3cWqsiMO68TA68qaEwSaNGnAn28+h8G3X8zJ/Q5jyOOvJZ330mWrue0fw7dLHztuOtn1avOvwZdz/DHdeGbkewDUr1+X6685jcG3X8xlA/rxwH9HV/6GUiXJ911Vh+CbrvlY15tZZzPbF/gRuKQyJ5vZVDO7MtzsBfRI2PewmW35TToReMHMupjZ1xGUO6UkkV23FgCbiorZVFQcm+4lO8OX85dwwD67Ubd2TbKyMulxQFtee//TdBeryvbusBv16tUpc/9e7VqRHe5v17YlK1cWbN03/oPP+OOgodx4yyM88vhrbN68OalrTv34S3oe1gmAbgftzazZ8zAzdt+tOXkN6wOwa8sm/LhpE5s2Fe3orUUuqndepVp1mOh6PNA2fPXs/8LXy06S1AlA0uthrXO6pHxJ/cNa6quS2hAE5WvC/YdLGiTpOkl9gauBSyWNTdvdVVJx8WYOP/MftD/6Jnp160DXfduku0jVxt57tGDS9K9Zmb+WdRt+5N0PZ7Noyep0F2unGvt/0+ncKfjytej75UycMpvb/tSfO/96ERkZGUz4cGYFOQRWriqgUV4OAJmZGdSpU4uCwvXbHDN56ufsvltzatSoHi2GIj411rR+YpKyCF4t+yZwG/CJmZ0oqTcwHOhsZn3DYw8EHgf+B3QBMLP5kh4GCs3s7vC4I8N9r5fcFweZmRmMf2Yg+QXrOPv6R5g993s6tt0l3cWqFtrv3pwrzjmKU658gLp1arFvu5ZkZlaDv6KdZNac+YwdN53b/hRMcv/ZrHnMm/8Df7xtKAA//riJnJygVe2f/3qepctXU1RUzPIV+dx4yyMAHNfnIHr17FzhtRZ+t4xnnhvDzdefmaK72TFx+b+drsBaR9L0cH088BgwGfgtgJm9J6mRpBwzWyOpMfAkcKqZ5Ufx9VjSAIJ3hNOqdesq5xe13Pp1OfzA9oyZONsDa4Kz+3Xn7H7dAfjbQ6+wS5MGaS7RzvHtgiX897FXuem6M6if/dMjiZ6HduKMU3tvd/y1V50CBG2sDz06mlsHnrvN/ryG9Vmxcg2N8nIoLt7M+vUbqZ8dNDesWLmGf97/PJcPOIHmzfJSeFc7ICaRNd1trJ3N7Aoz+7GsAyVlAiOAv5hZct9zkmBmQ8ysq5l1bdK4SVTZVsnyVQXkF6wDYP2GHxk75XPatana09+fm2Vh++J3i1fy2vuf8ttjDkxziVJv+Yp87vn3C1x+8Qns0rzR1vR9O7Zh8tQ55K9ZC0Bh4XqWLU+uaeTALu0ZN2EGAJM/msM+e7dBEmvXbuDOe0Zw5qm92at9qwpy2flS/M6ryFSPxpPAeOAs4K+SehG8vnaNpMHADDMbUcZ5BUDOTipjSi1evobLBj1J8ebNbN5snHTUARx7+H7pLla1ct7Ax1iVv5YaWZnced0p5NavVIeSaun+B19i9ucLKChcx2VX/4vfndST4uLgIVSf3gfy4v/GU1i4nqHD3wQgMyODv992Abu2bMKpv+3F3wc/g202MjMzOP/cY2nSuOJa/K96duaBIaO46voHyK5XhysvOwmAt979iCVLVvHiqPG8OGo8ADdffya5OfVSdPeVk/6QmRwFr3PZyReVCs0su0RaHjAU2IPghV0DzGxG+G7vWcCWR5N/BtYA15nZryW1B14ANgNXELyzptDM7pY0iCTaWA88sKt9MHlqdDf4M1NUnNyT5l+yMV8srfigX7BrzziGubM+rVJc3Hf/A+yltyckdexezetNM7OuVbleVaSlxloyqIZpKwm6R5VML+t/xvvh/i+BTgnp4xPOHVSVcjrnqg+f6No556IWcVcqSfMJmhKLgSIz6xp+c34OaAPMJ3hgvqqyeVeHfqzOOZcUJblUwq/Ch+hbmg1uAsaYWTtgTLhdaR5YnXMxEUx0ncxSBScAw8L1YZTSPJkMD6zOudioxMirxpKmJiwDSsnOgLclTUvY38zMfgjXFwM71N/R21idc7FQya/5y5PoFXCYmS2S1BR4R9LniTvNzMJeSZXmNVbnXHxE2MhqZovCn0uBl4GDgSWSWgCEP3eoH50HVudcbEQ1u5WkepLqb1kHjgZmAqOB/uFh/YFRO1JObwpwzsVGhN2tmgEvhw+6soBnzOxNSR8BIyVdAHwLnLojmXtgdc7FgyAjosBqZt8A+5eSvoJg9GaVeGB1zsWIj7xyzrnIbJnoOg48sDrnYiMmcdUDq3MuPrzG6pxzEYvLyzU9sDrnYiMeYdUDq3MuJqrLG1iT4YHVORcbPtG1c85FLR5x1QOrcy4+YhJXPbA65+KierzaOhkeWJ1zsRCnkVc+baBzzkXMa6zOudiIS43VA6tzLja8u5VzzkXJBwg451y04vTwygOrcy42vCnAOeci5jVW55yLWEziqgdW51yMxCSyemB1zsWCIDZDWmVm6S5D2klaRvAO8eqiMbA83YWoxvzzqVh1+4x2M7MmVclA0psE95WM5WZ2bFWuVxUeWKshSVPNrGu6y1Fd+edTMf+M0svnCnDOuYh5YHXOuYh5YK2ehqS7ANWcfz4V888ojbyN1TnnIuY1Vueci5gHVueci5gH1ohJMkn/TNi+TtKgFFzn5hLbHyasD5Y0S9LgqK+bahV9flvus8T9niip404t6E4iqVjSdEkzJT0vqW4lz+8q6f5wvZekHgn7LpF0brjeIbzOJ5L2jPYufnk8sEZvI3CypGQ7Mu+obQKrmfVI2BwAdDKz61NchlQo9/Pbcp8l7vdEoNTAKinuowvXm1lnM9sX+BG4pDInm9lUM7sy3OwF9EjY97CZDQ83TwReMLMuZvZ1BOX+RfPAGr0igiey15TcIamJpBclfRQuhyakvxPWMh+V9O2WwCLpf5KmhfsGhGl3AHXCGsbTYVph+HM0kA1Mk3TaTrnjaJX3+bWR9J6kGZLGSGod1sD6AYPDz2NPSe9Luk/SVOCqnVz+VBoPtJWUF/5ezJA0SVInAEmvh5/BdEn5kvqHtdRXJbUhCMrXhPsPlzQo/EbQF7gauFTS2LTd3c+JmfkS4QIUAjnAfCAXuA4YFO57BjgsXG8NzAnX/wMMDNePBQxoHG7nhT/rADOBRluuU/K6pa3Hbang83sF6B+unw/8L1x/AvhdQh7vAw+m+16i+jzCn1nAKOBS4N/ArWF6b2B6iXMOBGaEn18v4NUwfRBwXcJxW7dL7vOlakvcvyZVS2a2RtJw4EpgfcKuo4CO+mkiiRxJ2cBhwEnhuW9KWpVwzpWSTgrXWwHtgBWpLH+6lfP5dQdODtefBO4qJ5vnUlS8na2OpOnh+njgMWAy8FsAM3tPUiNJOeHn1pjgsznVzPIVk0lLfm48sKbOfcDHwOMJaRnAIWa2IfHAsn75JfUiCMbdzWydpPeB2qkobDVU2udXGWsjLEs6rTezzokJ5fy+ZAIjgL+Y2cydUDZXBm9jTREzWwmMBC5ISH4buGLLhqQtfzAfAKeGaUcDDcP0XGBVGFQ7AIck5LVJUo0UFT/tyvj8PgROD9fPIqjBARQA9Xde6dJuPMH9b/nHd7mZrQHuAGaY2YgyzvulfU5p44E1tf7JttOcXQl0DR86zOanJ7y3AUdLmgmcAiwm+CN4E8iSNIfgj2ZSQl5DgBlbHl79TJX8/K4AzpM0AziHnx5MjQCu/wV1FRoEHBh+DncA/cP06wh+j7Y8wOpX4rxXgJO2PLzaecX95fEhrdWApFpAsZkVSeoOPFTy659zLj68jbV6aA2MlJRB0FfxojSXxzlXBV5jdc65iHkbq3PORcwDq3PORcwDq3PORcwDq6tQVWdYKpHXE5J+F64/Wt6sVCVnY6rENeaXNolLWekljims5LUGSbqusmV0P28eWF0yyp1haUdnkDKzC81sdjmH9CJhNibn4sIDq6usLTMs9ZI0PpxNa7akTAXzwH4UDoC4GECB/0j6QtK7QNMtGYWzUHUN14+V9LGkT8OZq9qw/WxMZc0O1kjS2+EMYI8CFQ6QVymzhiXsuzdMHyOpSZi2p6Q3w3PGhyPhnCuV92N1SQtrpscRjAgDOADY18zmhcEp38wOCgc8fCDpbaALsBfBfKnNgNnA0BL5NgEeAXqGeeWZ2UpJDxPM7nR3eNwzwL1mNkFSa+AtYG/gVmCCmf1F0vFsOwy2LOeH16gDfCTpRTNbAdQDpprZNZL+HOb9e4KRbpeY2VeSugEPEsws5dx2PLC6ZJQ2w1IPYIqZzQvTjwY6bWk/JZjnoB3QE3jWzIqB7yW9V0r+hwDjtuQVzhNQmrJmB+tJOOuVmb1WYnawspQ1a9hmfpoZ6yngpfAaPYDnE65dK4lruF8oD6wuGWXNsJQ4g5SAK8zsrRLH9Y2wHJWaHawslZw1zMLrrvZhxi5Z3sbqovIWwQz0NQAktZdUDxgHnBa2wbYAflXKuZOAnpJ2D8/NC9NLzsZU1uxg44Azw7Tj+Gl2sLKUN2tYBrCl1n0mQRPDGmCepFPCa0jS/hVcw/2CeWB1UXmUoP3043CWrv8SfCN6Gfgq3DccmFjyRDNbRvCerpckfcpPX8VLzsZU3uxgPSXNImgSWFBBWcubNWwtcHB4D72Bv4TpZwEXhOWbBZyQxGfifqF8rgDnnIuY11idcy5iHlidcy5iHlidcy5iHlidcy5iHlidcy5iHlidcy5iHlidcy5i/x+t9yTo7pB0WwAAAABJRU5ErkJggg==)"
   ]
  },
  {
   "cell_type": "code",
   "execution_count": null,
   "metadata": {
    "id": "CHqrCz4aekC1"
   },
   "outputs": [],
   "source": [
    "# Saving the model and weight:\n",
    "\n",
    "model.save_weights(\"drive/My Drive/bert/Sentiment_Analysis_adangrad_5e-5_075_600_karışık_notrsuz10000poz150_weight.h5\")\n",
    "model.save(\"drive/My Drive/bert/modelSentiment_Analysis_adangrad_5e-5_075_600_karışık_notrsuz10000poz150_weight.h5\")"
   ]
  },
  {
   "cell_type": "markdown",
   "metadata": {},
   "source": [
    "# <font color='red'> Step 5: Final Model Predictions on 150k Dataset</font>"
   ]
  },
  {
   "cell_type": "code",
   "execution_count": null,
   "metadata": {
    "id": "n39pOW2nfOL_"
   },
   "outputs": [],
   "source": [
    "# Reading the 150K test csv file: Preprocessed, Cleaned, NER'ed, Untagged, Sampled by the county ratios.\n",
    "\n",
    "df_final=pd.read_csv(\"drive/My Drive/SON DATA/FINAL-TAGSIZ(test).csv\")"
   ]
  },
  {
   "cell_type": "code",
   "execution_count": null,
   "metadata": {
    "id": "rZkAbWxefUKs"
   },
   "outputs": [],
   "source": [
    "# Deleting unnecessary columns:\n",
    "\n",
    "df_final.drop(labels=[\"X_IBB_NEIGHBOURHOOD\",\"Unnamed: 0\",\"lang\",\"preProcessing\"], axis=1,inplace=True)"
   ]
  },
  {
   "cell_type": "code",
   "execution_count": null,
   "metadata": {
    "id": "KyUz3DsMf2PE"
   },
   "outputs": [],
   "source": [
    "df_final.drop(labels=[\"ORG_TICKET_ID\",\"SR_AREA\",\"SR_SUBTYPE_CD\",\"clean_new\"], axis=1,inplace=True)"
   ]
  },
  {
   "cell_type": "code",
   "execution_count": null,
   "metadata": {
    "id": "uauxQA0IgO-y"
   },
   "outputs": [],
   "source": [
    "df_final.to_csv(\"drive/My Drive/Colab Notebooks/SONTESTDATA_etiketsiz_150_2.csv\")"
   ]
  },
  {
   "cell_type": "code",
   "execution_count": null,
   "metadata": {
    "id": "VYccwc7Dgb7X"
   },
   "outputs": [],
   "source": [
    "import csv\n",
    "import json\n",
    "def csv_to_json(csvFilePath, jsonFilePath):\n",
    "    jsonArray = []\n",
    "      \n",
    "    # Read csv file.\n",
    "    with open(csvFilePath, encoding='utf-8') as csvf: \n",
    "        # Load csv file data using csv library's dictionary reader.\n",
    "        csvReader = csv.DictReader(csvf) \n",
    "\n",
    "        # Convert each csv row into python dict.\n",
    "        for row in csvReader: \n",
    "            # Add this python dict to json array.\n",
    "            jsonArray.append(row)\n",
    "  \n",
    "    # Convert python jsonArray to JSON String and write to file.\n",
    "    with open(jsonFilePath, 'w', encoding='utf-8') as jsonf: \n",
    "        jsonString = json.dumps(jsonArray, indent=4)\n",
    "        jsonf.write(jsonString)\n",
    "          \n",
    "csvFilePath = r\"drive/My Drive/Colab Notebooks/SONTESTDATA_etiketsiz_150_2.csv\"\n",
    "jsonFilePath = r\"drive/My Drive/Colab Notebooks/SONTESTDATA_etiketsiz_150_2.json\"\n",
    "csv_to_json(csvFilePath, jsonFilePath)"
   ]
  },
  {
   "cell_type": "code",
   "execution_count": null,
   "metadata": {
    "id": "twKBlSoMgfA6"
   },
   "outputs": [],
   "source": [
    "final_test_path= \"drive/My Drive/Colab Notebooks/SONTESTDATA_etiketsiz_150_2.json\""
   ]
  },
  {
   "cell_type": "code",
   "execution_count": null,
   "metadata": {
    "id": "cgtmhlTagpPL"
   },
   "outputs": [],
   "source": [
    "with open(final_test_path, 'r') as f:\n",
    "    final_test = json.load(f)"
   ]
  },
  {
   "cell_type": "code",
   "execution_count": null,
   "metadata": {
    "id": "fRs0YN0Pgv_6"
   },
   "outputs": [],
   "source": [
    "def data_prep_2(dataset):\n",
    "    X = []\n",
    "\n",
    "    for element in tqdm(dataset):\n",
    "        X.append(feature_extraction(element['clean_ner']))\n",
    "    return np.array(X) \n",
    "\n",
    "X_test = data_prep_2(final_test)"
   ]
  },
  {
   "cell_type": "markdown",
   "metadata": {
    "id": "kMl17SaIg_ej"
   },
   "source": [
    "Loading the best performing model and its weights to prediction on the final 150K test data."
   ]
  },
  {
   "cell_type": "code",
   "execution_count": null,
   "metadata": {
    "id": "tG6VMnPTg4w6"
   },
   "outputs": [],
   "source": [
    "model=load_model(\"drive/My Drive/bert/modelSentiment_Analysis_adangrad_5e-5_075_600_karışık_notrsuz10000poz150_weight.h5\")"
   ]
  },
  {
   "cell_type": "code",
   "execution_count": null,
   "metadata": {
    "id": "wEBToYFvg8dz"
   },
   "outputs": [],
   "source": [
    "model.load_weights(\"drive/My Drive/bert/Sentiment_Analysis_adangrad_5e-5_075_600_karışık_notrsuz10000poz150_weight.h5\")"
   ]
  },
  {
   "cell_type": "code",
   "execution_count": null,
   "metadata": {
    "id": "PluwEIo1hFjN"
   },
   "outputs": [],
   "source": [
    "model.summary()"
   ]
  },
  {
   "cell_type": "code",
   "execution_count": null,
   "metadata": {
    "id": "1qDXdKFahH46"
   },
   "outputs": [],
   "source": [
    "y_pred= np.argmax(model.predict(X_test), 1) #predictions"
   ]
  },
  {
   "cell_type": "code",
   "execution_count": null,
   "metadata": {
    "id": "0ZyXJzVNhOed"
   },
   "outputs": [],
   "source": [
    "df_final[\"duygu\"]= y_pred #predictions are added into the dataframe as new column named \"duygu\""
   ]
  },
  {
   "cell_type": "code",
   "execution_count": null,
   "metadata": {
    "id": "m-JsuRwthZza"
   },
   "outputs": [],
   "source": [
    "df_final[\"duygu\"].value_counts()"
   ]
  },
  {
   "cell_type": "code",
   "execution_count": null,
   "metadata": {
    "id": "T9Mj2iQPhees"
   },
   "outputs": [],
   "source": [
    "df_final"
   ]
  },
  {
   "cell_type": "code",
   "execution_count": null,
   "metadata": {
    "id": "ZqixKXoLhiYy"
   },
   "outputs": [],
   "source": [
    "#saving predicted test data with it's predictions for using in daya visualizing phase\n",
    "df_final.to_csv('drive/My Drive/NLP/Duygu Haritasi Grubu/Tüm notebooklar/DATA(CSV+JSON)/150test_etiketli_079.csv')"
   ]
  },
  {
   "cell_type": "markdown",
   "metadata": {},
   "source": [
    "# <font color='red'> Step 6: Visualizing \\& Mapping Findings </font>"
   ]
  },
  {
   "cell_type": "markdown",
   "metadata": {},
   "source": [
    "## <font color='blue'> Visualizing Some Findings </font>"
   ]
  },
  {
   "cell_type": "code",
   "execution_count": null,
   "metadata": {
    "id": "DhO4x7FSjtq6"
   },
   "outputs": [],
   "source": [
    "from collections import Counter\n",
    "import matplotlib.pyplot as plt\n",
    "import numpy as np"
   ]
  },
  {
   "cell_type": "code",
   "execution_count": null,
   "metadata": {
    "id": "ZvIKtYLKhwa9"
   },
   "outputs": [],
   "source": [
    "# Plot word count distribution for both positive and negative sentiments:\n",
    "\n",
    "x = df_final['totalwords'][df_final[\"duygu\"] == 2] #positive\n",
    "y = df_final['totalwords'][df_final[\"duygu\"] == 0] #negative\n",
    "z = df_final['totalwords'][df_final[\"duygu\"] == 1] #neutral\n",
    "plt.figure(figsize=(12,6))\n",
    "plt.xlim(0,60)\n",
    "plt.xticks(np.arange(5, 65, 5.0))\n",
    "plt.title('Word Count Distribution for Each Sentiment')\n",
    "plt.xlabel('word count')\n",
    "plt.ylabel('frequency')\n",
    "g = plt.hist([x, y, z], color=['g',\"r\",'y'], alpha=0.6, label=['pozitif','negatif', \"notr\"])\n",
    "plt.legend(loc='upper right')"
   ]
  },
  {
   "cell_type": "code",
   "execution_count": null,
   "metadata": {
    "id": "Oi5Ju8V8jYXi"
   },
   "outputs": [],
   "source": [
    "# Plot word count distribution for both positive and negative sentiments:\n",
    "\n",
    "x = df_final['totalwords'][df_final[\"duygu\"] == 2] # positive\n",
    "y = df_final['totalwords'][df_final[\"duygu\"] == 0] # negative\n",
    "plt.figure(figsize=(12,6))\n",
    "plt.xlim(0,60)\n",
    "plt.xticks(np.arange(5, 65, 5.0))\n",
    "plt.title('Word Count Distribution for both Positive and Negative Sentiments')\n",
    "plt.xlabel('word count')\n",
    "plt.ylabel('frequency')\n",
    "g = plt.hist([x, y], color=['g',\"r\"], alpha=0.6, label=['pozitif','negatif'])\n",
    "plt.legend(loc='upper right')"
   ]
  },
  {
   "cell_type": "code",
   "execution_count": null,
   "metadata": {
    "id": "J3mAAuKOjoiB"
   },
   "outputs": [],
   "source": [
    "# Get most common words in test dataset:\n",
    "all_words = []\n",
    "for line in list(df_final['clean_ner']):\n",
    "    words = line.split()\n",
    "    for word in words:\n",
    "        all_words.append(word)\n",
    "    \n",
    "Counter(all_words).most_common(10)"
   ]
  },
  {
   "cell_type": "code",
   "execution_count": null,
   "metadata": {
    "id": "a4EsOXdij07k"
   },
   "outputs": [],
   "source": [
    "# Plot word frequency distribution of first few words:\n",
    "\n",
    "plt.figure(figsize=(12,5))\n",
    "plt.title('Top 25 most common words')\n",
    "plt.xticks(fontsize=13, rotation=90)\n",
    "fd = nltk.FreqDist(all_words)\n",
    "fd.plot(25,cumulative=False)\n",
    "\n",
    "# log-log plot:\n",
    "word_counts = sorted(Counter(all_words).values(), reverse=True)\n",
    "plt.figure(figsize=(12,5))\n",
    "plt.loglog(word_counts, linestyle='-', linewidth=1.5)\n",
    "plt.ylabel(\"Freq\")\n",
    "plt.xlabel(\"Word Rank\")\n",
    "plt.title('log-log plot of words frequency')"
   ]
  },
  {
   "cell_type": "code",
   "execution_count": null,
   "metadata": {
    "id": "_t0kpkrdj4Hn"
   },
   "outputs": [],
   "source": [
    "# Plot histogram of tickets counts by county:\n",
    "\n",
    "import seaborn as sns\n",
    "sns.set_style(\"darkgrid\")\n",
    "x = df_final[\"X_IBB_COUNTY\"].value_counts(1).head(20)\n",
    "x.plot(kind='bar',figsize=(10,6),fontsize=13,color='steelblue')\n",
    "plt.ylabel('% of Total Tickets', fontsize=13)"
   ]
  },
  {
   "cell_type": "markdown",
   "metadata": {
    "id": "WfwO2NgmkKzm"
   },
   "source": [
    "Firstly we found Turkey's all counties latitude and longitude CSV file from Kaggle. Then, we filtered İstanbul Counties latitude  and longitude from this file and adding those into df_final as new columns."
   ]
  },
  {
   "cell_type": "code",
   "execution_count": null,
   "metadata": {
    "id": "GlvqTTSkkq3U"
   },
   "outputs": [],
   "source": [
    "ilce_geo= pd.read_csv(\"drive/My Drive/NLP/Duygu Haritasi Grubu/harita&veri görselleştirme/ilce.csv\") \n",
    "\n",
    "# Turkey's all counties latitude and longitude."
   ]
  },
  {
   "cell_type": "code",
   "execution_count": null,
   "metadata": {
    "id": "eaypkrHIkAHY"
   },
   "outputs": [],
   "source": [
    "labels=[\"northeast_lat\",\"northeast_lon\",\"southwest_lat\",\"southwest_lon\"]\n",
    "ilce_geo.drop(labels=labels,axis=1,inplace=True)\n",
    "\n",
    "# Drop the unnecessary columns."
   ]
  },
  {
   "cell_type": "code",
   "execution_count": null,
   "metadata": {
    "id": "CHjZfRXBk5Gn"
   },
   "outputs": [],
   "source": [
    "ist_ilce = ['ADALAR', 'ARNAVUTKÖY', 'ATAŞEHİR', 'AVCILAR', 'BAĞCILAR', 'BAHÇELİEVLER', 'BAKIRKÖY', 'BAŞAKŞEHİR', 'BAYRAMPAŞA', 'BEŞİKTAŞ', 'BEYKOZ', 'BEYLİKDÜZÜ', 'BEYOĞLU', 'BÜYÜKÇEKMECE', 'ÇATALCA', 'ÇEKMEKÖY', 'ESENLER', 'ESENYURT', 'EYÜPSULTAN', 'FATİH', 'GAZİOSMANPAŞA', 'GÜNGÖREN', 'KADIKÖY', 'KAĞITHANE', 'KARTAL', 'KÜÇÜKÇEKMECE', 'MALTEPE', 'PENDİK', 'SANCAKTEPE', 'SARIYER', 'ŞİŞLİ', 'ŞİLE', 'SİLİVRİ', 'SULTANBEYLİ', 'SULTANGAZİ', 'TUZLA', 'ÜMRANİYE', 'ÜSKÜDAR', 'ZEYTİNBURNU']\n",
    "boolean_series = ilce_geo[\"ilce_adi\"].isin(ist_ilce)\n",
    "filtered_df = ilce_geo[boolean_series]\n",
    "\n",
    "print(filtered_df) \n",
    "\n",
    "# Filtered Istanbul Counties from the ilce_geo file except Eyüpsultan because it is missing in the open source Kaggle dataset."
   ]
  },
  {
   "cell_type": "code",
   "execution_count": null,
   "metadata": {
    "id": "dsS4igxslKvA"
   },
   "outputs": [],
   "source": [
    "# Adding Eyüpsultan lat and lon into the df:\n",
    "\n",
    "eyüpsultan= {\"ilce_id\":[34] , \"ilce_adi\":[\"EYÜPSULTAN\"], \"lat\":[41.0551], \"lon\":[28.9346]}\n",
    "eyüpdf=pd.DataFrame.from_dict(eyüpsultan)"
   ]
  },
  {
   "cell_type": "code",
   "execution_count": null,
   "metadata": {
    "id": "DNOfglSrlSP1"
   },
   "outputs": [],
   "source": [
    "filtered_df=filtered_df.append(eyüpdf)"
   ]
  },
  {
   "cell_type": "code",
   "execution_count": null,
   "metadata": {
    "id": "G8f3N1-mlU01"
   },
   "outputs": [],
   "source": [
    "label=[\"ilce_id\" , \"il_plaka\"]\n",
    "filtered_df.drop(labels=label, axis=1, inplace=True)"
   ]
  },
  {
   "cell_type": "code",
   "execution_count": null,
   "metadata": {
    "id": "6LnnMBArlXcf"
   },
   "outputs": [],
   "source": [
    "filtered_df=filtered_df.rename(columns={\"ilce_adi\": \"X_IBB_COUNTY\"}) \n",
    "\n",
    "# Because we would like to merge this df with the df that we calculated sentiment scores in it,\n",
    "# We need same column name for this."
   ]
  },
  {
   "cell_type": "code",
   "execution_count": null,
   "metadata": {
    "id": "Iri5KH93llF-"
   },
   "outputs": [],
   "source": [
    "filtere_df=filtered_df.reset_index()"
   ]
  },
  {
   "cell_type": "code",
   "execution_count": null,
   "metadata": {
    "id": "Mki6aB_3m2JB"
   },
   "outputs": [],
   "source": [
    "filtered_df.to_csv (\".../filtered_df.csv\")"
   ]
  },
  {
   "cell_type": "markdown",
   "metadata": {
    "id": "DXxnh0b4mEh4"
   },
   "source": [
    "Calculating Sentiment Scores for each county in Istanbul:"
   ]
  },
  {
   "cell_type": "code",
   "execution_count": null,
   "metadata": {
    "id": "A44Mh-qom7l_"
   },
   "outputs": [],
   "source": [
    "filtered_df = pd.read_csv(\".../filtered_df.csv\")"
   ]
  },
  {
   "cell_type": "code",
   "execution_count": null,
   "metadata": {
    "id": "EIXGeOygm7hc"
   },
   "outputs": [],
   "source": [
    "df_score = filtered_df.groupby(['X_IBB_COUNTY'])['duygu'].value_counts().unstack().fillna(0.0).reset_index()"
   ]
  },
  {
   "cell_type": "code",
   "execution_count": null,
   "metadata": {
    "id": "GIsMQ7a5t-Mg"
   },
   "outputs": [],
   "source": [
    "df_score.rename(columns = {\"X_IBB_COUNTY\": \"county\", 0: \"neg\", 1: \"neutral\", 2: \"pos\"}, inplace = True)"
   ]
  },
  {
   "cell_type": "code",
   "execution_count": null,
   "metadata": {
    "id": "eTW9txXsuH-3"
   },
   "outputs": [],
   "source": [
    "county_list = [16033, 296709, 422594, 436897, 592371, 226229, 269950, 737206, 469924, 246110,  365572, 226396, 176513, 257362, 446276, 957398, 405845, 396594, 487778,280299, 481983, 474514, 442415, 789633, 515021, 726481, 456861, 335298, 343318, 537488, 200215, 273608, 283657, 74975, 273658, 713803, 520771, 37904, 266793]\n",
    "cl = pd.Series(county_list)"
   ]
  },
  {
   "cell_type": "code",
   "execution_count": null,
   "metadata": {
    "id": "SPNxmx92t-Qg"
   },
   "outputs": [],
   "source": [
    "df_score[\"skor\"] = df_score[\"poz\"] - df_score[\"neg\"]\n",
    "df_score[\"ilce_nufus\"] = pl.values\n",
    "df_score[\"kisi_basi_ticket\"] = (df_score[\"notr\"] + df_score[\"neg\"] + df_score[\"poz\"]) / df_score[\"ilce_nufus\"]\n",
    "df_score[\"kisi_basi_neg_ticket\"] = df_score[\"neg\"] / df_score[\"ilce_nufus\"]\n",
    "df_score[\"duygu_orani\"] = (df_score[\"poz\"] + df_score[\"neg\"]) / (df_score[\"notr\"] + df_score[\"neg\"] + df_score[\"poz\"]) \n",
    "df_score[\"neg_poz_orani\"] = df_score[\"neg\"] / df_score[\"poz\"]"
   ]
  },
  {
   "cell_type": "code",
   "execution_count": null,
   "metadata": {
    "id": "F4pQX6D0t-Wr"
   },
   "outputs": [],
   "source": [
    "df_score.to_csv(\".../df_score.csv\")"
   ]
  },
  {
   "cell_type": "markdown",
   "metadata": {
    "id": "6ekjSHjNm8aV"
   },
   "source": [
    "Merging the filtered_df with df_score because we will use this merged df for mapping."
   ]
  },
  {
   "cell_type": "code",
   "execution_count": null,
   "metadata": {
    "id": "brTRhzgHlnR7"
   },
   "outputs": [],
   "source": [
    "latlon_join = pd.merge(filtered_df,  \n",
    "                      df_score,  \n",
    "                      on ='X_IBB_COUNTY',  \n",
    "                      how ='left')\n",
    "latlon_join"
   ]
  },
  {
   "cell_type": "code",
   "execution_count": null,
   "metadata": {
    "id": "Hp7JnsaKluPO"
   },
   "outputs": [],
   "source": [
    "latlon_join.to_csv(\"/.../150ktest_latlon_score_079.csv\")"
   ]
  },
  {
   "cell_type": "markdown",
   "metadata": {},
   "source": [
    "## <font color='blue'> Interactive Mapping </font>"
   ]
  },
  {
   "cell_type": "code",
   "execution_count": null,
   "metadata": {
    "id": "emeUL_cHnpo6"
   },
   "outputs": [],
   "source": [
    "import plotly.express as px\n",
    "import pandas as pd\n",
    "import matplotlib.pyplot as plt\n",
    "import seaborn as sns"
   ]
  },
  {
   "cell_type": "code",
   "execution_count": null,
   "metadata": {
    "id": "ZQLyb0bDntbv"
   },
   "outputs": [],
   "source": [
    "# Downloading latlot_join df:\n",
    "\n",
    "df_sentimentlan=pd.read_csv(\"/.../150ktest_latlon_score_079.csv\")"
   ]
  },
  {
   "cell_type": "code",
   "execution_count": null,
   "metadata": {
    "id": "537Z9C8qn781"
   },
   "outputs": [],
   "source": [
    "# Deleting unnecessary columns:\n",
    "\n",
    "df_sentimentlan.drop(labels=[\"Unnamed: 0.1\"],axis=1,inplace=True)"
   ]
  },
  {
   "cell_type": "code",
   "execution_count": null,
   "metadata": {
    "id": "sRP6OLv4oEi7"
   },
   "outputs": [],
   "source": [
    "df_sentimentlan"
   ]
  },
  {
   "cell_type": "code",
   "execution_count": null,
   "metadata": {
    "id": "ztCoCUBsoFA5"
   },
   "outputs": [],
   "source": [
    "df=df_sentimentlan.set_index('X_IBB_COUNTY')"
   ]
  },
  {
   "cell_type": "code",
   "execution_count": null,
   "metadata": {
    "id": "ynDgNJsUoWvC"
   },
   "outputs": [],
   "source": [
    "# Plot histogram of tickets counts per person for each county:\n",
    "\n",
    "sns.set_style(\"darkgrid\")\n",
    "x = df[\"kisi_basi_ticket\"].sort_values(ascending=False).head(10) #top 10 counties in terms of the highest tickets counts per person\n",
    "x.plot(kind='bar',figsize=(10,6),fontsize=13,color='steelblue')\n",
    "plt.ylabel('Tickets per County', fontsize=13)"
   ]
  },
  {
   "cell_type": "code",
   "execution_count": null,
   "metadata": {
    "id": "7wrquHl9oXa9"
   },
   "outputs": [],
   "source": [
    "# Color in the map represents the negativity/positivity ratio.\n",
    "# Darker red circles are the most negative counties.\n",
    "# Green circles are the most positive counties.\n",
    "# Size in the map shows the negative ticket counts per person.\n",
    "# Bigger circles are the highest negative ticket counts per person.\n",
    "\n",
    "fig = px.scatter_mapbox(df_sentimentlan , lat=\"lat\", lon=\"lon\", hover_name=\"X_IBB_COUNTY\", hover_data=[\"kisi_basi_neg_ticket\",\"neg_poz_orani\"], size=\"kisi_basi_neg_ticket\", color=\"neg_poz_orani\",color_continuous_scale=[(0,\"green\"),(0.06,\"yellow\"),(1,\"red\")],range_color=[0,17], zoom=9.5, height=600)\n",
    "fig.update_layout(mapbox_style=\"open-street-map\")\n",
    "fig.update_layout(margin=dict(t=0, r=0, b=0, l=0))\n",
    "fig.show()"
   ]
  },
  {
   "cell_type": "code",
   "execution_count": null,
   "metadata": {
    "id": "sEo44JdTphgI"
   },
   "outputs": [],
   "source": [
    "# Size and color in the map shows the ratio of (negative tickets + positive tickets) / (all tickets)\n",
    "# If color warmer == more emotional tickets.\n",
    "# If color colder == more neutral tickets. \n",
    "\n",
    "fig = px.scatter_mapbox(df_sentimentlan , lat=\"lat\", lon=\"lon\", hover_name=\"X_IBB_COUNTY\", hover_data=[\"duygu_orani\"], size=\"duygu_orani\",size_max=15,color=\"duygu_orani\",color_continuous_scale=px.colors.sequential.Turbo,color_continuous_midpoint =0.5,zoom=9.5, height=600)\n",
    "fig.update_layout(mapbox_style=\"open-street-map\")\n",
    "fig.update_layout(margin=dict(t=0, r=0, b=0, l=0))\n",
    "fig.show()"
   ]
  },
  {
   "cell_type": "markdown",
   "metadata": {},
   "source": [
    "## <font color='blue'> Word Cloud </font>"
   ]
  },
  {
   "cell_type": "code",
   "execution_count": null,
   "metadata": {
    "id": "kJmfmDp7xBlg"
   },
   "outputs": [],
   "source": [
    "pip install jpype1\n",
    "import seaborn as sns\n",
    "import matplotlib\n",
    "from matplotlib import pyplot as plt\n",
    "pip install wordcloud\n",
    "from PIL import Image\n",
    "from wordcloud import WordCloud, STOPWORDS, ImageColorGenerator\n",
    "\n",
    "% matplotlib inline\n",
    "\n",
    "from collections import Counter"
   ]
  },
  {
   "cell_type": "code",
   "execution_count": null,
   "metadata": {
    "id": "NRh2m8fOxBq-"
   },
   "outputs": [],
   "source": [
    "df_final = pd.read_csv('drive/My Drive/NLP/Duygu Haritasi Grubu/Tüm notebooklar/DATA(CSV+JSON)/150test_etiketli_079.csv')"
   ]
  },
  {
   "cell_type": "code",
   "execution_count": null,
   "metadata": {
    "id": "vwKUmvvlAzXr"
   },
   "outputs": [],
   "source": [
    "df_final = df_final.astype(str)"
   ]
  },
  {
   "cell_type": "markdown",
   "metadata": {
    "id": "m4T1kZj5AuB1"
   },
   "source": [
    "**General:**"
   ]
  },
  {
   "cell_type": "code",
   "execution_count": null,
   "metadata": {
    "id": "dfAA6j25AtDq"
   },
   "outputs": [],
   "source": [
    "county = df.groupby(\"X_IBB_COUNTY\")"
   ]
  },
  {
   "cell_type": "code",
   "execution_count": null,
   "metadata": {
    "id": "T10T3F2KxBzZ"
   },
   "outputs": [],
   "source": [
    "p = Counter(\" \".join(df[\"clean_ner\"]).split()).most_common(150)\n",
    "rslt = pd.DataFrame(p, columns=['Word', 'Frequency'])\n",
    "sw = set(rslt['Word'])"
   ]
  },
  {
   "cell_type": "code",
   "execution_count": null,
   "metadata": {
    "id": "zCZmp6STxB5Y"
   },
   "outputs": [],
   "source": [
    "sw1 = {'ad', 'al', 'alan', 'adres', 'alma', 'alın', 'an', 'alt', 'ama', 'ancak', 'ara', 'arka', 'arz', 'ay', 'aç', 'ba', 'bak', 'bekle',\\\n",
    "       'belediye', 'belir', 'ben', 'bil', 'bin', 'bir', 'bırak', 'bugün', 'bulun', 'bura', 'caddesi', 'devam', 'değil', 'diğer',\\\n",
    "       'dile', 'dolayı', 'doğru', 'durum', 'et', 'fakat', 'fazla', 'gel', 'geç', 'geçen','gelme', 'gerek', 'geri', 'geç', 'geçen' \\\n",
    "       'gir', 'git', 'gün', 'hak', 'hala', 'hafta', 'iki', 'iste', 'iyi', 'iç', 'içeri', 'işlem', 'kadar', 'kal',\\\n",
    "       'ke', 'kendi', 'kişi', 'kon', 'konu', 'kullan', 'lütfen', 'mahallesi', 'merhaba', 'mi', 'ol', 'olma', 'oluş', 'ora', 'otur', \\\n",
    "       'rağmen', 'sağla', 'se', 'site', 'sokak', 'son', 'sonra', 'sonuç', 'söyle', 'şua', 'şekil', 'tane', 'taraf', 'tarafından', 'tarih', 'tekrar', \\\n",
    "       'uygula', 'üst', 'var', 'ver', 'yan', 'yar', 'yap', 'yapma', 'yaş', 'yaşa', 'yaz', 'yeni', 'yer', 'yok', 'yol', 'yolcu', \\\n",
    "       'yön', 'yüz', 'zaman', 'zor', 'çık', 'ön', 'önce', 'üzeri', 'tek', 'gelma', 'ilk', 'başla', 'verme', 'aynı'\\\n",
    "       'kes', 'ayak', 'ait', 'ayrıca', 'yıl', 'ilet', 'beri', 'sat', 'mevcut', 'başka', 'gerekli', 'nisa', 'koy', 'sahip', \\\n",
    "       'çek', 'bulunma', 'kes', 'ilçe', 'dol', 'kod', 'kalk', 'kısım', 'mahalle', 'cadde', 'art', 'isim', 'yüklem', 'av', \\\n",
    "       'oku', 'istanbul', 'ibb', 'numara', 'numaralı', 'ey', 'herhangi', 'insan', 'kısa', 'yönlen', 'ye', 'sadece', 'tam', 'genel',\\\n",
    "       'sor', 'böyle', 'şöyle', 'tc', 'alakalı', 'karşı', 'tl', 'nokta', 'dakika', 'aralık', 'sürekli'}\n",
    "\n",
    "text = \" \".join(word for word in df[\"clean_ner\"])\n",
    "\n",
    "wordcloud = WordCloud(width = 1200, height = 800, \n",
    "                      random_state=1, \n",
    "                      background_color ='white', \n",
    "                      stopwords = sw1,\n",
    "                      collocations= False,\n",
    "                      min_font_size = 15).generate(text)\n",
    "\n",
    "plt.imshow(wordcloud, interpolation='bilinear')\n",
    "plt.axis(\"off\")\n",
    "plt.show()\n",
    "\n",
    "wordcloud.to_file(\".../genel.png\")"
   ]
  },
  {
   "cell_type": "markdown",
   "metadata": {
    "id": "5NuwkSH-BFsD"
   },
   "source": [
    "**Adalar:**"
   ]
  },
  {
   "cell_type": "code",
   "execution_count": null,
   "metadata": {
    "id": "BDR1d45DBHQw"
   },
   "outputs": [],
   "source": [
    "adalar = ilce_group.get_group(\"ADALAR\")"
   ]
  },
  {
   "cell_type": "code",
   "execution_count": null,
   "metadata": {
    "id": "h0DgwiZZBHsz"
   },
   "outputs": [],
   "source": [
    "swadalar = {'ad', 'al', 'alan', 'adres', 'alma', 'alın', 'an', 'alt', 'ama', 'ancak', 'ara', 'arka', 'arz', 'ay', 'aç', 'ba', 'bak', 'bekle',\\\n",
    "       'belediye', 'belir', 'ben', 'bil', 'bin', 'bir', 'bırak', 'bugün', 'bulun', 'bura', 'caddesi', 'devam', 'değil', 'diğer',\\\n",
    "       'dile', 'dolayı', 'doğru', 'durum', 'et', 'fakat', 'fazla', 'gel', 'geç', 'geçen','gelme', 'gerek', 'geri', 'geç', 'geçen' \\\n",
    "       'gir', 'git', 'gün', 'hak', 'hala', 'hafta', 'iki', 'iste', 'iyi', 'iç', 'içeri', 'işlem', 'kadar', 'kal',\\\n",
    "       'ke', 'kendi', 'kişi', 'kon', 'konu', 'kullan', 'lütfen', 'mahallesi', 'merhaba', 'mi', 'ol', 'olma', 'oluş', 'ora', 'otur', \\\n",
    "       'rağmen', 'sağla', 'se', 'site', 'sokak', 'son', 'sonra', 'sonuç', 'söyle', 'şua', 'şekil', 'tane', 'taraf', 'tarafından', 'tarih', 'tekrar', \\\n",
    "       'uygula', 'üst', 'var', 'ver', 'yan', 'yar', 'yap', 'yapma', 'yaş', 'yaşa', 'yaz', 'yeni', 'yer', 'yok', 'yol', 'yolcu', \\\n",
    "       'yön', 'yüz', 'zaman', 'zor', 'çık', 'ön', 'önce', 'üzeri', 'tek', 'gelma', 'ilk', 'başla', 'verme', 'aynı'\\\n",
    "       'kes', 'ayak', 'ait', 'ayrıca', 'yıl', 'ilet', 'beri', 'sat', 'mevcut', 'başka', 'gerekli', 'nisa', 'koy', 'sahip', \\\n",
    "       'çek', 'bulunma', 'kes', 'ilçe', 'dol', 'kod', 'kalk', 'kısım', 'mahalle', 'cadde', 'art', 'isim', 'yüklem', 'av', \\\n",
    "       'oku', 'istanbul', 'ibb', 'numara', 'numaralı', 'ey', 'herhangi', 'insan', 'kısa', 'yönlen', 'ye', 'sadece', 'tam', 'genel',\\\n",
    "       'sor', 'böyle', 'şöyle', 'tc', 'alakalı', 'karşı', 'ada', 'adalar', 'yat', 'buda', 'tl', 'tel', 'gör', \\\n",
    "       'nokta', 'sun', 'uyma', 'büyükayı', 'el', 'sivri', 'biz', 'neden', 'tandem', 'ne', 'da', 'unut', 'çal', \\\n",
    "       'de', 'hal', 'göster', 'bu', 'mail', 'in'}\n",
    "\n",
    "text = \" \".join(word for word in adalar[\"clean_ner\"])\n",
    "\n",
    "wordcloud_adalar = WordCloud(width = 1200, height = 800, \n",
    "                      random_state=1, \n",
    "                      background_color ='white', \n",
    "                      stopwords = swadalar,\n",
    "                      collocations= False,\n",
    "                      min_font_size = 20).generate(text)\n",
    "\n",
    "plt.imshow(wordcloud_adalar, interpolation = 'bilinear')\n",
    "plt.axis(\"off\")\n",
    "plt.show()\n",
    "\n",
    "wordcloud_adalar.to_file(\".../adalar.png\")"
   ]
  },
  {
   "cell_type": "markdown",
   "metadata": {
    "id": "tVRGCOayBOCb"
   },
   "source": [
    "**Besiktas:**"
   ]
  },
  {
   "cell_type": "code",
   "execution_count": null,
   "metadata": {
    "id": "PxFTww2mBH1T"
   },
   "outputs": [],
   "source": [
    "besiktas = ilce_group.get_group(\"BEŞİKTAŞ\")"
   ]
  },
  {
   "cell_type": "code",
   "execution_count": null,
   "metadata": {
    "id": "7wHKboN_BTTt"
   },
   "outputs": [],
   "source": [
    "swbesiktas = {'ad', 'al', 'alan', 'adres', 'alma', 'alın', 'an', 'alt', 'ama', 'ancak', 'ara', 'arka', 'arz', 'ay', 'aç', 'ba', 'bak', 'bekle',\\\n",
    "       'belediye', 'belir', 'ben', 'bil', 'bin', 'bir', 'bırak', 'bugün', 'bulun', 'bura', 'caddesi', 'devam', 'değil', 'diğer',\\\n",
    "       'dile', 'dolayı', 'doğru', 'durum', 'et', 'fakat', 'fazla', 'gel', 'geç', 'geçen','gelme', 'gerek', 'geri', 'geç', 'geçen' \\\n",
    "       'gir', 'git', 'gün', 'hak', 'hala', 'hafta', 'iki', 'iste', 'iyi', 'iç', 'içeri', 'işlem', 'kadar', 'kal',\\\n",
    "       'ke', 'kendi', 'kişi', 'kon', 'konu', 'kullan', 'lütfen', 'mahallesi', 'merhaba', 'mi', 'ol', 'olma', 'oluş', 'ora', 'otur', \\\n",
    "       'rağmen', 'sağla', 'se', 'site', 'sokak', 'son', 'sonra', 'sonuç', 'söyle', 'şua', 'şekil', 'tane', 'taraf', 'tarafından', 'tarih', 'tekrar', \\\n",
    "       'uygula', 'üst', 'var', 'ver', 'yan', 'yar', 'yap', 'yapma', 'yaş', 'yaşa', 'yaz', 'yeni', 'yer', 'yok', 'yol', 'yolcu', \\\n",
    "       'yön', 'yüz', 'zaman', 'zor', 'çık', 'ön', 'önce', 'üzeri', 'tek', 'gelma', 'ilk', 'başla', 'verme', 'aynı'\\\n",
    "       'kes', 'ayak', 'ait', 'ayrıca', 'yıl', 'ilet', 'beri', 'sat', 'mevcut', 'başka', 'gerekli', 'nisa', 'koy', 'sahip', \\\n",
    "       'çek', 'bulunma', 'kes', 'ilçe', 'dol', 'kod', 'kalk', 'kısım', 'mahalle', 'cadde', 'art', 'isim', 'yüklem', 'av', \\\n",
    "       'oku', 'istanbul', 'ibb', 'numara', 'numaralı', 'ey', 'herhangi', 'insan', 'kısa', 'yönlen', 'ye', 'sadece', 'tam', 'genel',\\\n",
    "       'sor', 'böyle', 'şöyle', 'tc', 'alakalı', 'karşı', 'ada', 'adalar', 'yat', 'buda', 'arnavutköy', 'kalklı', 'bollı', 'beşiktaş',\\\n",
    "       'gözük', 'plaka', 'plakalı', 'tl', 'te', 'eti', 'etme', 'ispari', 'yad', 'dt', 'etma', 'biz', 'siz', 'da', \\\n",
    "       'de', 'ne', 'beyaz', 'verma', 'orta', 'ulu', 'talep', 'şikayet'}\n",
    "\n",
    "text = \" \".join(word for word in besiktas[\"clean_ner\"])\n",
    "\n",
    "wordcloud_besiktas = WordCloud(width = 1200, height = 800, \n",
    "                      random_state=1, \n",
    "                      background_color ='white', \n",
    "                      stopwords = swbesiktas,\n",
    "                      collocations= False,\n",
    "                      min_font_size = 15).generate(text)\n",
    "\n",
    "plt.imshow(wordcloud, interpolation = 'bilinear')\n",
    "plt.axis(\"off\")\n",
    "plt.show()\n",
    "\n",
    "wordcloud_besiktas.to_file(\".../besiktas.png\")"
   ]
  },
  {
   "cell_type": "markdown",
   "metadata": {
    "id": "wFPklXUbBg81"
   },
   "source": [
    "**Sultanbeyli:**"
   ]
  },
  {
   "cell_type": "code",
   "execution_count": null,
   "metadata": {
    "id": "OYpBpqArBgSd"
   },
   "outputs": [],
   "source": [
    "sultanbeyli = ilce_group.get_group(\"SULTANBEYLİ\")"
   ]
  },
  {
   "cell_type": "code",
   "execution_count": null,
   "metadata": {
    "id": "PDoE-CJiBWd1"
   },
   "outputs": [],
   "source": [
    "swsultanbeyli = {'ad', 'al', 'alan', 'adres', 'alma', 'alın', 'an', 'alt', 'ama', 'ancak', 'ara', 'arka', 'arz', 'ay', 'aç', 'ba', 'bak', 'bekle',\\\n",
    "       'belediye', 'belir', 'ben', 'bil', 'bin', 'bir', 'bırak', 'bugün', 'bulun', 'bura', 'caddesi', 'devam', 'değil', 'diğer',\\\n",
    "       'dile', 'dolayı', 'doğru', 'durum', 'et', 'fakat', 'fazla', 'gel', 'geç', 'geçen','gelme', 'gerek', 'geri', 'geç', 'geçen' \\\n",
    "       'gir', 'git', 'gün', 'hak', 'hala', 'hafta', 'iki', 'iste', 'iyi', 'iç', 'içeri', 'işlem', 'kadar', 'kal',\\\n",
    "       'ke', 'kendi', 'kişi', 'kon', 'konu', 'kullan', 'lütfen', 'mahallesi', 'merhaba', 'mi', 'ol', 'olma', 'oluş', 'ora', 'otur', \\\n",
    "       'rağmen', 'sağla', 'se', 'site', 'sokak', 'son', 'sonra', 'sonuç', 'söyle', 'şua', 'şekil', 'tane', 'taraf', 'tarafından', 'tarih', 'tekrar', \\\n",
    "       'uygula', 'üst', 'var', 'ver', 'yan', 'yar', 'yap', 'yapma', 'yaş', 'yaşa', 'yaz', 'yeni', 'yer', 'yok', 'yol', 'yolcu', \\\n",
    "       'yön', 'yüz', 'zaman', 'zor', 'çık', 'ön', 'önce', 'üzeri', 'tek', 'gelma', 'ilk', 'başla', 'verme', 'aynı'\\\n",
    "       'kes', 'ayak', 'ait', 'ayrıca', 'yıl', 'ilet', 'beri', 'sat', 'mevcut', 'başka', 'gerekli', 'nisa', 'koy', 'sahip', \\\n",
    "       'çek', 'bulunma', 'kes', 'ilçe', 'dol', 'kod', 'kalk', 'kısım', 'mahalle', 'cadde', 'art', 'isim', 'yüklem', 'av', \\\n",
    "       'oku', 'istanbul', 'ibb', 'numara', 'numaralı', 'ey', 'herhangi', 'insan', 'kısa', 'yönlen', 'ye', 'sadece', 'tam', 'genel',\\\n",
    "       'sor', 'böyle', 'şöyle', 'tc', 'alakalı', 'karşı', 'ada', 'adalar', 'yat', 'buda', 'arnavutköy', 'kalklı', 'bollı', 'beşiktaş',\\\n",
    "       'gözük', 'plaka', 'plakalı', 'tl', 'sultanbeyli', 'talep', 'şikayet', 'ne', 'etme', 'sürekli', 'km', 'da', \\\n",
    "       'de', 'biz', 'siz', 'başar', 'kod', 'kodlu', 'yaklaşık', 'mb', 'uza', 'ilgili', 'aynı', 'etma', 'has', \\\n",
    "       'mu', 'ya','ödema', 've', 'yas'}\n",
    "\n",
    "text = \" \".join(word for word in sultanbeyli[\"clean_ner\"])\n",
    "\n",
    "wordcloud_sultanbeyli = WordCloud(width = 1200, height = 800, \n",
    "                      random_state=1, \n",
    "                      background_color ='white', \n",
    "                      stopwords = swsultanbeyli,\n",
    "                      collocations= False,\n",
    "                      min_font_size = 15).generate(text)\n",
    "\n",
    "plt.imshow(wordcloud_sultanbeyli, interpolation = 'bilinear')\n",
    "plt.axis(\"off\")\n",
    "plt.show()\n",
    "\n",
    "wordcloud_sultanbeyli.to_file(\".../sultanbeyli.png\")"
   ]
  },
  {
   "cell_type": "markdown",
   "metadata": {
    "id": "ed1U7o6oBuVD"
   },
   "source": [
    "**Positive Tickets:**"
   ]
  },
  {
   "cell_type": "code",
   "execution_count": null,
   "metadata": {
    "id": "BGfWZQ4VBTZp"
   },
   "outputs": [],
   "source": [
    "duygu_group = df.groupby([\"duygu\"])"
   ]
  },
  {
   "cell_type": "code",
   "execution_count": null,
   "metadata": {
    "id": "7W-QZr_pBTe7"
   },
   "outputs": [],
   "source": [
    "poz = duygu_group.get_group(\"2\")"
   ]
  },
  {
   "cell_type": "code",
   "execution_count": null,
   "metadata": {
    "id": "tMzM0RUqB1DE"
   },
   "outputs": [],
   "source": [
    "swpoz = {'ad', 'al', 'alan', 'adres', 'alma', 'alın', 'an', 'alt', 'ama', 'ancak', 'ara', 'arka', 'arz', 'ay', 'aç', 'ba', 'bak', 'bekle',\\\n",
    "       'belediye', 'belir', 'ben', 'bil', 'bin', 'bir', 'bırak', 'bugün', 'bulun', 'bura', 'caddesi', 'devam', 'değil', 'diğer',\\\n",
    "       'dile', 'dolayı', 'doğru', 'durum', 'et', 'fakat', 'fazla', 'gel', 'geç', 'geçen','gelme', 'gerek', 'geri', 'geç', 'geçen' \\\n",
    "       'gir', 'git', 'gün', 'hak', 'hala', 'hafta', 'iki', 'iste', 'iyi', 'iç', 'içeri', 'işlem', 'kadar', 'kal',\\\n",
    "       'ke', 'kendi', 'kişi', 'kon', 'konu', 'kullan', 'lütfen', 'mahallesi', 'merhaba', 'mi', 'ol', 'olma', 'oluş', 'ora', 'otur', \\\n",
    "       'rağmen', 'sağla', 'se', 'site', 'sokak', 'son', 'sonra', 'sonuç', 'söyle', 'şua', 'şekil', 'tane', 'taraf', 'tarafından', 'tarih', 'tekrar', \\\n",
    "       'uygula', 'üst', 'var', 'ver', 'yan', 'yar', 'yap', 'yapma', 'yaş', 'yaşa', 'yaz', 'yeni', 'yer', 'yok', 'yol', 'yolcu', \\\n",
    "       'yön', 'yüz', 'zaman', 'zor', 'çık', 'ön', 'önce', 'üzeri', 'tek', 'gelma', 'ilk', 'başla', 'verme', 'aynı'\\\n",
    "       'kes', 'ayak', 'ait', 'ayrıca', 'yıl', 'ilet', 'beri', 'sat', 'mevcut', 'başka', 'gerekli', 'nisa', 'koy', 'sahip', \\\n",
    "       'çek', 'bulunma', 'kes', 'ilçe', 'dol', 'kod', 'kalk', 'kısım', 'mahalle', 'cadde', 'art', 'isim', 'yüklem', 'av', \\\n",
    "       'oku', 'istanbul', 'ibb', 'numara', 'numaralı', 'ey', 'herhangi', 'insan', 'kısa', 'yönlen', 'ye', 'sadece', 'tam', 'genel',\\\n",
    "       'sor', 'böyle', 'şöyle', 'tc', 'alakalı', 'karşı', 'tl', 'nokta', 'dakika', 'aralık', 'sürekli', 'nebahat', 'link', \\\n",
    "       'alo', 'sun', 'bey', 'gir', 'system', 'maç'}\n",
    "\n",
    "text = \" \".join(word for word in poz[\"clean_ner\"])\n",
    "\n",
    "wordcloud_poz = WordCloud(width = 1200, height = 800, \n",
    "                      random_state=1, \n",
    "                      background_color ='white', \n",
    "                      stopwords = swpoz,\n",
    "                      collocations= False,\n",
    "                      max_words = 100,\n",
    "                      min_font_size = 20).generate(text)\n",
    "\n",
    "plt.imshow(wordcloud_poz, interpolation = 'bilinear')\n",
    "plt.axis(\"off\")\n",
    "plt.show()\n",
    "\n",
    "wordcloud_poz.to_file(\".../poz.png\")"
   ]
  },
  {
   "cell_type": "markdown",
   "metadata": {
    "id": "pj4R-v0qB4pK"
   },
   "source": [
    "**Negative Tickets:**"
   ]
  },
  {
   "cell_type": "code",
   "execution_count": null,
   "metadata": {
    "id": "2X_V8zloB1J7"
   },
   "outputs": [],
   "source": [
    "neg = duygu_group.get_group(\"0\")"
   ]
  },
  {
   "cell_type": "code",
   "execution_count": null,
   "metadata": {
    "id": "gZreUmUIB1P2"
   },
   "outputs": [],
   "source": [
    "swneg = {'ad', 'al', 'alan', 'adres', 'alma', 'alın', 'an', 'alt', 'ama', 'ancak', 'ara', 'arka', 'arz', 'ay', 'aç', 'ba', 'bak', 'bekle',\\\n",
    "       'belediye', 'belir', 'ben', 'bil', 'bin', 'bir', 'bırak', 'bugün', 'bulun', 'bura', 'caddesi', 'devam', 'değil', 'diğer',\\\n",
    "       'dile', 'dolayı', 'doğru', 'durum', 'et', 'fakat', 'fazla', 'gel', 'geç', 'geçen','gelme', 'gerek', 'geri', 'geç', 'geçen' \\\n",
    "       'gir', 'git', 'gün', 'hak', 'hala', 'hafta', 'iki', 'iste', 'iyi', 'iç', 'içeri', 'işlem', 'kadar', 'kal',\\\n",
    "       'ke', 'kendi', 'kişi', 'kon', 'konu', 'kullan', 'lütfen', 'mahallesi', 'merhaba', 'mi', 'ol', 'olma', 'oluş', 'ora', 'otur', \\\n",
    "       'rağmen', 'sağla', 'se', 'site', 'sokak', 'son', 'sonra', 'sonuç', 'söyle', 'şua', 'şekil', 'tane', 'taraf', 'tarafından', 'tarih', 'tekrar', \\\n",
    "       'uygula', 'üst', 'var', 'ver', 'yan', 'yar', 'yap', 'yapma', 'yaş', 'yaşa', 'yaz', 'yeni', 'yer', 'yok', 'yol', 'yolcu', \\\n",
    "       'yön', 'yüz', 'zaman', 'zor', 'çık', 'ön', 'önce', 'üzeri', 'tek', 'gelma', 'ilk', 'başla', 'verme', 'aynı'\\\n",
    "       'kes', 'ayak', 'ait', 'ayrıca', 'yıl', 'ilet', 'beri', 'sat', 'mevcut', 'başka', 'gerekli', 'nisa', 'koy', 'sahip', \\\n",
    "       'çek', 'bulunma', 'kes', 'ilçe', 'dol', 'kod', 'kalk', 'kısım', 'mahalle', 'cadde', 'art', 'isim', 'yüklem', 'av', \\\n",
    "       'oku', 'istanbul', 'ibb', 'numara', 'numaralı', 'ey', 'herhangi', 'insan', 'kısa', 'yönlen', 'ye', 'sadece', 'tam', 'genel',\\\n",
    "       'sor', 'böyle', 'şöyle', 'tc', 'alakalı', 'karşı', 'ada', 'adalar', 'yat', 'buda', 'arnavutköy', 'kalklı', 'bollı', \\\n",
    "       'tl'}\n",
    "\n",
    "text = \" \".join(word for word in neg[\"clean_ner\"])\n",
    "\n",
    "wordcloud_neg = WordCloud(width = 1200, height = 800, \n",
    "                      random_state=1, \n",
    "                      background_color ='white', \n",
    "                      stopwords = swneg,\n",
    "                      collocations= False,\n",
    "                      min_font_size = 15).generate(text)\n",
    "\n",
    "plt.imshow(wordcloud_neg, interpolation = 'bilinear')\n",
    "plt.axis(\"off\")\n",
    "plt.show()\n",
    "\n",
    "wordcloud_neg.to_file(\".../neg.png\")"
   ]
  }
 ],
 "metadata": {
  "colab": {
   "collapsed_sections": [],
   "name": "SentiMap GitHub",
   "provenance": [],
   "toc_visible": true
  },
  "kernelspec": {
   "display_name": "Python 3",
   "language": "python",
   "name": "python3"
  },
  "language_info": {
   "codemirror_mode": {
    "name": "ipython",
    "version": 3
   },
   "file_extension": ".py",
   "mimetype": "text/x-python",
   "name": "python",
   "nbconvert_exporter": "python",
   "pygments_lexer": "ipython3",
   "version": "3.8.3"
  }
 },
 "nbformat": 4,
 "nbformat_minor": 1
}
